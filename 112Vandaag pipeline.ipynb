{
 "cells": [
  {
   "cell_type": "code",
   "execution_count": 2,
   "id": "f3da430c",
   "metadata": {},
   "outputs": [],
   "source": [
    "import pandas as pd\n",
    "import numpy as np\n",
    "import re\n",
    "import time\n",
    "import nltk\n",
    "import spacy\n",
    "import matplotlib.pyplot as plt\n",
    "from spacy.lang.nl.examples import sentences\n",
    "from tqdm import tqdm"
   ]
  },
  {
   "cell_type": "markdown",
   "id": "6a7f8388",
   "metadata": {},
   "source": [
    "### Whisper transcripties genereren"
   ]
  },
  {
   "cell_type": "code",
   "execution_count": null,
   "id": "9762a557",
   "metadata": {},
   "outputs": [],
   "source": [
    "!pip install git+https://github.com/openai/whisper.git "
   ]
  },
  {
   "cell_type": "code",
   "execution_count": null,
   "id": "15783cc1",
   "metadata": {},
   "outputs": [],
   "source": [
    "output = !whisper \"aflevering112Vandaag.mp4\" --model small --language English"
   ]
  },
  {
   "cell_type": "code",
   "execution_count": null,
   "id": "b2de65a2",
   "metadata": {},
   "outputs": [],
   "source": [
    "lines = output.split(\"\\n\")\n",
    "text = \"\\n\".join(line.split(\"] \")[-1] for line in lines)\n",
    "\n",
    "with open(\"aflevering112Vandaag_analyse.txt\", \"w\") as file:\n",
    "    file.write(text)"
   ]
  },
  {
   "cell_type": "markdown",
   "id": "a0b535be",
   "metadata": {},
   "source": [
    "## Preprocessing\n",
    "Eerst moeten de transcripties van de aflevering handmatig gecontroleerd en gecorrigeerd worden (ground truth spraak/referentie). Vervolgens moet bij elke transcriptie aangegeven worden welke spreker sprak (spreker_id). Dit nieuwe bestand is invoer voor onderstaande code."
   ]
  },
  {
   "cell_type": "markdown",
   "id": "adaa3da0",
   "metadata": {},
   "source": [
    "### DataFrame maken van de Whisper output"
   ]
  },
  {
   "cell_type": "code",
   "execution_count": 3,
   "id": "47b15b32",
   "metadata": {},
   "outputs": [
    {
     "name": "stdout",
     "output_type": "stream",
     "text": [
      "['[\\'Elke dag wordt de land nummer 1 en 2 duizenden keren gebeld.\\', \\'Hier zie je de belangrijkste meldingen van woensdag 1 september.\\', \\'Scooter Brand slaat over op woning in Noordwijk, buren reageren alert.\\', \\'Inbreker op, heet er daad betrapt, in het Brabantse vrucht.\\', \\'Zijn compagnon is nog voortvluchtig.\\', \\'Arrestatieteam doet inval bij een woning in Alblasserdam.\\', \\'En Ellie lust over hoe het komt dat een lijkwagen in Den Haag...\\', \\'verzeild raakt in een kettingbotsing.\\', \\'Dit is 1 en 2 vandaag.\\', \\'Alarmcentraal 1 en 2 wil de politiebrood in Van Kroos.\\', \\'Goedenavond.\\', \\'De politie is iets na half acht massaal uitgerukt...\\', \\'voor een ruzie in het centrum van Bunschoten, in de provincie Utrecht.\\', \\'De politie kreeg een melding binnen van een ruzie op straat...\\', \\'waarbij gedreigd zou zijn met een vuurwapen.\\', \\'Meerdere agenten met kogen weer in de vesten...\\', \\'en een politiehelicopter werden ingezet.\\', \\'Voor ons nog is niet duidelijk wat er precies is gebeurd.\\', \\'Ook laat de politie weten, nog niemanden hebben aangehouden.\\', \\'Wel heeft het voor veel onrust in de buurt gezorgd.\\', \\'Bewoners in Noordwijk schrikken zich dood als vannacht even na drie uur...\\', \\'hun woonkamer opeens in brand staat.\\', \\'Door de hitte en de vlammen lijkt er geen redden meer aan.\\', \\'Maar de buren reageren gelukkig alert.\\', \\'Verslag even meer jam van het veer.\\', \\'Ik laag hun bed en ik draaide mijn eigen oom.\\', \"Ik dacht, joh, wat is m\\'n kameroranje?\", \\'Dus ik doe mijn gordijnen open en ik dacht, god, allermachtig,\\', \\'er staat de hele scooter in de fik.\\', \\'Toen hoorde ik een knal en dacht ik, dit is niet goed.\\', \\'Op het moment dat ik mijn gordijnen open trok,\\', \\'toen zag ik eigenlijk al fout de boel.\\', \\'Dus meteen mijn partner van jongens alarm 1 en 2.\\', \\'We gaan nu direct handelen.\\', \\'Toen hoorde ik allemaal gegeel en ik ben naar beneden gegaan.\\', \\'En naartoe was ze daar volop bezig.\\', \\'De brand begint bij de scooter.\\', \\'Door de hitte breekt het glas van de voorkant van het huis,\\', \\'waardoor de brand naar binnen slaat en zich verder verspreidt in de woonkamer.\\', \\'Men vermoedt op dit moment dat de brand is aangestoken.\\', \\'Mijn man is wakker geworden van gerinkel en die was bang dat er bij ons in huis ingeprokken werd.\\', \\'Die is naar beneden gegaan.\\', \\'Die heeft vervolgens de deur open gedaan en die heeft dus gezien dat er allemaal vlammen waren.\\', \\'Daarna heeft hij mij hier geroepen.\\', \\'En toen ben ik naar beneden gekomen en dan heb ik als eerste 1-1-2 gebeld.\\', \\'En 1-1-2, nou je weet waarvan de stress krijgt met je telefoonioop, maar ook ook 1-1-2.\\', \\'Ja, wie wil u? Ik zeg brand, er is hier brand.\\', \\'Ik zag de buurman naar buiten komen en die ging weer naar binnen, want die ging water halen of zo.\\', \\'Ik zeg ook de buurman komt gelukkig ook naar buiten.\\', \\'En toen gingen die vlammen helemaal omhoog.\\', \\'Gelukkig zien de buren de brand en bellen meteen 1-1-2.\\', \\'Maar nog belangrijker, zij proberen ook zelf de brand te blussen.\\', \\'Wij hebben een zomaarsje in de tuin en daar heb ik de brandblussen gehaald.\\', \\'Daar zit een brandblussen.\\', \\'Dus toen heb ik hem eerste brandblussen gegeven en toen heeft hij het kozijn en de gordijnen uit kunnen blussen.\\', \\'Ja, en de rest heeft hij met de brandslang kunnen doen.\\', \\'En toen zeiden ze, oh, ga ze zeggen dat ze daar van daar blijven, dat ze daar van daar blijven.\\', \\'Ik zei, ik sta hier in mijn nakie, ik had alleen nog een onderbroekje aan.\\', \\'En toen dacht ik, nou, ik kan mij het ook schelen, het is donker en niemand ziet het.\\', \\'Dus ik vloog naar de voordeur, ik zei, gaat er allemaal weg, jullie moeten er allemaal weg.\\', \\'Maar ja, die buurman dacht, ja, mijn hoek is er ook, en die kinderen.\\', \\'Dus die gingen hun gelukkig door met blussen.\\', \\'En toen kwam er een brandblussen bij en ik zag die kinderen allemaal uit het huis komen, die gingen daar zitten.\\', \\'De buren die hebben na het bellen van de brandweer zelf zijn ze gaan blussen met de tuinslang.\\', \\'En een brandblussen is dat slim.\\', \\'Zolang ze dit veilig doen, is dat in principe altijd hartstikke goed.\\', \\'Mochten ze te dichtbij komen of zo vervaarlopen, dan raden we ook altijd aan om te wachten op de brandweer.\\', \\'Die komt natuurlijk met voldoende materie om de echte brandblussen.\\', \\'En het is voor de buren natuurlijk verschrikkelijk, jongen, jongens.\\', \\'Ja, dat was heel spannend.\\', \\'Ja, maar wat deden die op dat moment, dat de brand uitbrak?\\', \\'Ja, eentjes aan de achterkant uit de raam gesprongen.\\', \\'Het is eigenlijk het eerste wat hij zei, ja, ik ben uit het raam gesprongen.\\', \\'Dat ik hem aan zat kijken, waarom?\\', \\'En hij zei, ja, ik moest het gewoon op dat moment weg, dus die was gewoon ontzettend geschrokken.\\', \\'En als ik dan hoor dat het dan ook nog express gedaan is, dat vind ik toch wel heel erg.\\', \\'Ja, dat hoorde ik, want die buren schijnen daar en iets om een camera uit te hebben.\\', \\'En die hebben iemand weg zien loopt met een jereken.\\', \\'Ja, de vlammen kwamen gewoon echt ontzettend hoog.\\', \\'Het was een hele dikke rookontwikkeling, dus we waren heel bang dat de mensen nog binnen zaten.\\', \\'Maar de jongens kregen snel iedereen uit de huis kunnen krijgen.\\', \\'Ik ben op de bank gaan zitten, ik dacht volgens mij, ik raak het nu allemaal hard.\\', \\'Ik had zoveel adrenaline.\\', \\'Ja, echt? Ik denk ik ga eerst kopité nemen.\\', \\'Ik was helemaal verslag, wat een drama.\\', \"Wat kan het gevaarlijk zijn op zo\\'n moment?\", \\'Nou ja, kijk, het kan zijn dat deze mensen ook zichzelf wil in gevaar brengen als we kan bussen.\\', \\'Er wordt het alleen maar groter het gevaar, dus zolang het veilig kan, altijd doen.\\', \\'Maar als je twijfelt, wacht op de bank en de brand was redelijk hoe snel onder controle.\\', \\'Oké, het was redelijk snel onder controle.\\', \\'Zo, dat ging net goed.\\', \\'Dat ging net goed voor meerdiam, zeker?\\', \\'Is de politie op zoek één verdachte of meerdere?\\', \\'Nou, dat zou je denken, maar de politie wil eerst nog onderzoek doen...\\', \\'of er daadwerkelijk sprake is van brandstichting.\\', \\'Dat klinkt misschien een beetje gek, omdat er gesproken wordt over iemand die zou zijn weggerend...\\', \\'en er wordt zelfs gesproken over Jerri-Ken.\\', \\'Maar toch wil de politie die conclusie van brandstichting op dit moment nog niet trekken.\\', \\'Maar wat moet er dan meer nodig zijn om dat leven erop te plakken?\\', \\'Ja, het klinkt misschien inderdaad een beetje gek, want één en één is nog altijd twee.\\', \\'Maar de politie kan ook een tactisch belang hebben, omdat bijvoorbeeld nog niet...\\', \\'Sorry, ik ga je gelijk onderbreken.\\', \\'Een tactisch belang is eigenlijk wanneer het onderzoek gewoon nog geen ruimte is...\\', \\'om dat soort informatie met de buitenwereld te delen.\\', \\'Laat ik het zo om vloers te vertellen.\\', \"Daarnaast wil de politie, en dat is natuurlijk ook goed, omdat je alle scenario\\'s open moet houden.\", \\'Sowieso niet te snel conclusies trekken.\\', \\'En ik denk dat zij ook al het eerst misschien nog iets van onderzoek willen doen...\\', \\'naar de mensen die ook op dat adres wonen, of er mogelijk een motief is.\\', \\'En zoals het ernaar uitziet, zoals ik het ook zie, is de scooter in de brand gestoken.\\', \\'Dus misschien was het niet eens gericht op de woningen, dat zou ook nog kunnen zijn.\\', \\'Dus wordt vervocht.\\', \\'Een fietser in het Drenzenborger is vanochtend rond half acht ernstig gewond geraakt toen hij tegen een wegafscheiding aanreed.\\', \\'De fietser maakte een ritje op zijn elektrische fiets toen hij een betonnen afscheiding tussen het fietspad en de auto rijbaar raakte.\\', \\'Hij viel en kwam daarbij in botsing met een voorbijrijdende auto.\\', \\'Een traumahelikopter werd opgeroepen en het slachtoffer werd met een ambulance naar het ziekenhuis vervoerd.\\', \\'De eigenaar van een bedrijfsbusje in Houten twijfelt vannacht rond half drie geen moment als hij vlammen onder zijn motorkap ziet.\\', \\'Hij belt één en twee en doet er alles aan om in de tussentijd zijn busje en gereedschap achterin te redden.\\', \\'Samen met zijn buurman probeert hij met pannen, embers water en een thuis lang de brand onder controle te krijgen.\\', \\'Bij aankomst van de brandweer is het grootste gevaar gelukkige weken.\\', \\'Het gereedschap blijft onbeschadigd en de politie onderzoekt of er sprake is van brandstichting.\\', \\'In Den Haag zorgden een kop start botsing tussen twee busjes en een lijkwagen vanmiddag voor een ingewikkelde situatie.\\', \\'In de lijkwagen werd een overleden persoon vervoerd, maar door de botsing was er geen beweging meer in de achterklep te krijgen.\\', \\'Vervangend vervoer werd opgetrommeld, maar toen de deur echt niet wilde meegeven moest de tocht helaas worden gestaakt.\\', \\'Er raakte één persoon lichtgewond.\\', \\'Nu was er vandaag in diezelfde straat, op diezelfde weg, was er nog iets anders aan de hand.\\', \\'Ja, en dat is wel een bijzonder verhaal, want dat kan de aanleiding zijn geweest voor die aanrijding.\\', \\'Want op het moment van die aanrijding is er een arrestatie-team in die straat bezig.\\', \\'Omdat er een melding was binnengekomen dat er in een woning een verwart persoon zou zijn en die moesten ze gaan aanhouden.\\', \\'Dus het kan zomaar zijn dat de bestuurders dus afgeleid zijn geweest,\\', \\'omdat daar natuurlijk ineens zwaabewapende mannen rondlopen.\\', \\'En dat kan de oorzaak zijn geweest natuurlijk van die aanrijding.\\', \\'In ieder geval is die persoon niet in die woning aangetroffen.\\', \\'Er was alleen een hondje in die woning, maar die is gelukkig door een van de buren opgevangen.\\', \\'Een inbreker wordt gisteravond op een hete daad betrapt,\\', \\'terwijl hij probeerde zijn slag te slaan bij een woning in het Brabantse vucht.\\', \\'Verslag even Simon Zeilmans.\\', \\'Gisteravond laat worden bewoners van een van de omliggende huizen hier van de Tennisvereniging in Vucht,\\', \\'opgeschrikd door La Waai in huis.\\', \\'Ze hebben al de politie die inderdaad een inbreker op het daad betrapt.\\', \\'En ondertussen zijn er ook bezoekers van de Tennisvereniging hier op de parkeerplek,\\', \\'die een tweede man zien wegvluchten.\\', \\'Ze waarschuwen direct de politie die de achtervolging inzet,\\', \\'politiehelikopters inzet, maar de tweede man wordt niet meer gevonden\\', \\'en uiteindelijk wordt hier een auto op de parkeerplek in beslag genomen.\\', \\'Vandaag wordt ook duidelijk waarom de inbrekers het juist op dit huis gemumpt hadden,\\', \"namelijk een collectie van zeer exclusieve horloge\\'s.\", \\'En dat is niets nieuws in de misdaad. Wij spreken met een expert.\\', \"Nou, op nummer 1 van meest gestolen horloge\\'s is echt de Rolex.\", \\'Dat is het statussymbol voor criminele.\\', \\'Je moet ook denken aan andere merkers als Patek Philippe of Audemars Picet.\\', \"En dat zijn exclusieve horloge\\'s en die zijn waarde vast.\", \\'Dus ze zijn voor criminele handig, niet alleen om in pols te hebben,\\', \\'maar ook als betaalmiddel, want je neemt het zo mee over de grens.\\', \\'En dan kun je er een drugstiel mee afrekenen, bijvoorbeeld.\\', \\'Maar het is zelfs voorgekomen dat criminele de liquidaties mee hebben betaald.\\', \"Ja, Rolex bijvoorbeeld, die produceert minder horloge\\'s\", \\'dan dat de markt wil hebben.\\', \\'Dus bij een officiële dealer kom je al gauw op een wachtlijst te staan.\\', \\'Daarom is er een soort laag onder van allemaal onofficiële dealers.\\', \\'En bij die dealers, daar kunnen crimineelen ook wel eens terecht...\\', \"om gestolen horloge\\'s weer te verkopen.\", \\'En die tweede verdachte, daar werd heel lang naar gezocht, is die inmiddels aangehouden?\\', \\'Nee, die is niet meer gevonden, dus daar wordt natuurlijk nog naar gezocht.\\', \\'Maar het is vaak wel zo dat wanneer je één verdachte hebt,\\', \\'dat die tweede naam vaak er ook nog wel weer uit voortvloeit.\\', \\'Want het onderzoeksteam zal ongetwijfeld onderzoek doen...\\', \\'naar eventuele mededaders van deze aangehouden verdachte.\\', \\'Want als deze figuur eerder bij de politie is geweest,\\', \\'dan staat dat natuurlijk wel geregistreerd met wie hij mogelijk ook meer is aangehouden.\\', \\'Dus er zal echt wel onderzoek worden gedaan met wie hij omgaat.\\', \\'Daar kan een wijkergent bijvoorbeeld ook een belangrijke rol in spelen.\\', \\'Dus hopelijk komt die tweede nog aan de beurt.\\', \\'En die auto die in beslag is genomen, hoe gaan ze daar mee te werken?\\', \\'Nou, dat zal forensisch onderzoek in worden gedaan.\\', \\'Zoals wel is wordt gezegd, elk contact laat een spoor achter.\\', \\'Wat ik sta hier nu met mijn handen op deze desk, dus mijn DNA ligt hier nu op deze desk.\\', \\'Nou, dat zal in die auto ook zo zijn, dus mogelijk dat daar haren te vinden zijn...\\', \\'of huidschilvers of vinger afdrukken, dus daar wordt onderzoek naar gedaan.\\', \\'En waar onder andere ook naar gekeken wordt, is bijvoorbeeld de stand van de bestuurderstoel.\\', \\'Want hoe dicht staat hij bij het stuur?\\', \\'Daarmee kun je iets van een lengte aflezen van degene die de auto heeft bestuurd.\\', \\'En als dat die tweede verdachte was, dan heb je in ieder geval een klein stukje van het signalement.\\', \\'En wat ook vaak onderzocht wordt in een auto, is de binnenspiegel.\\', \\'Want als je in een auto gaat zitten, dan ga je altijd even je spiegels stellen.\\', \\'Tenzij het je eigen auto is, want dan staan ze natuurlijk al goed.\\', \\'En dat staat helemaal niet bij stil, van die kleine dingetjes dat je zoveel in kaart kan brengen.\\', \"Ja, er zit zoveel informatie natuurlijk in zo\\'n auto.\", \\'Dus het is een heel belangrijk middel voor de politie om allerlei sporen te vinden en veilig te stellen.\\', \\'Wat mogelijk dus technisch weer kan leiden, tot die tweede verdachte.\\', \\'Straks in 1-1-2 vandaag.\\', \\'Auto staat stil voor een stoplicht, terwijl een busje achterop klapt.\\', \\'Lichaam aangespoeld op der Schelling.\\', \\'En Gerard ziet het ene na het andere ongeluk voor zijn deur gebeuren.\\', \\'Een nachtmerrie voor horeca-ondernemers in Den Bosch.\\', \\'De inbrekers hebben deze week toegeslagen op verschillende terrassen.\\', \\'Verslaggever Simon Zeilmans.\\', \\'Fantastisch initiatief van de mooiste stad van Nederland, Den Bosch natuurlijk.\\', \\'Zij besloten deze zomer een aantal pop-up-trassen te plaatsen.\\', \\'Een heerlijk initiatief, want natuurlijk een vervelend randje krijgt door het slechte weer.\\', \\'Maar het randje wordt dit weekend nog veel vervelender.\\', \\'Als blijkt dat vier van deze pop-up-trassen in één nacht zijn overvallen.\\', \\'We staan nu bij Eentje en we gaan spreken met een van de uitpaters Pepijn.\\', \\'Ik zou zeggen wat zit je hier heerlijk bij, maar het weer is slecht.\\', \\'Jouw Umer ook, denk ik nu, hè?\\', \\'Ja, zeker. Goedemiddag.\\', \\'Ja, het is een triest verhaal, eigenlijk.\\', \\'Begin even bij het begin, want wij staan nu op een van de pop-up-trassen van de bossenzomer.\\', \\'Ja, het initiatief is eigenlijk dat in coronatijd ontstaan dat er in Den Bosch een aantal tijdelijke terrassen zijn...\\', \\'om de mensen wat meer ruimte te geven op de terrassen die al bestaan in Den Bosch.\\', \\'Net als iedereen in Nederland denkt dat wij regenachtige zomer hebben gehad.\\', \"En de kerst op de tijd dat er dan ingebroken wordt hier, en niet alleen hier, maar bij drie andere collega\\'s.\", \\'Waarschijnlijk op de nacht van zondag op maandag zijn ze bij alle vier langs geweest en hebben ze dus ingebroken.\\', \\'Ook een van de getroffen ondernemers bij een van de pop-up-trassen, dit maar waterkant, Ivo, daar ben jij.\\', \\'Goedemiddag.\\', \\'Ja, hoe voel jij je?\\', \\'Ja, redelijk zuur, is het niet waar je op zit te wachten, de ene laatste week, ja, voordat je stopt.\\', \\'Je probeert eens moois neerzetten voor de stad, en dan is het totaal niet waar je op zit te wachten.\\', \"Nou, wat ze bij ons mee hebben genomen, is één van de cano\\'s die wij hier hebben liggen.\", \\'De voorje pot van het personeel, flesse drank, doos met wijn.\\', \\'We hadden hier nog wat tuitjes in de koelkast aan, daar hebben ze van gegeten en ja, het is eigenlijk heel triest.\\', \\'Ergens is er de 1500 en 2000 euro aan schade en voor wat er is weggehaald.\\', \\'Vorig jaar, tijdens de wostenzomer, is er ook een trass, bij een trass ingebroken.\\', \\'En dit jaar hebben ze een rondje gemaakt en hebben ze in één nacht waarschijnlijk tafieren gedaan.\\', \\'Wat overigens is, is gewoon de eigenlijk boosheid dat mensen niet van jouw spullen af kunnen blijven.\\', \\'Ja, ik vind het echt triest geworden.\\', \\'Degenen die dit gedaan heeft, die vind ik echt ontzettend een zielig persoon.\\', \\'Maar ja, helaas, we doen er niks aan.\\', \"Alle porto\\'s meegenomen, 11 stuks, een aantal speakers.\", \\'De drankvoorhaat hebben ze opengebroken en hebben ze allerlei dingen uit meegenomen.\\', \\'En een steekwagen om het allemaal te vervoeren, dus het is relebaler.\\', \\'Verwacht jij iets van het onderzoek, mensen die iets gezien hebben, gehoord hebben of...\\', \\'Ik hoop het.\\', \\'We hebben oproepen gedaan aan alle kanten, de bostenzomer heeft iets geplaatst.\\', \\'We hebben zelf vragen geplaatst, dus een item zoals dit helpt misschien ook.\\', \\'We hebben gevraagd hier aan de buurt, dus eigenlijk om te kijken of zij iets hebben gehoord.\\', \\'Dus ergens of er getijgen zijn.\\', \\'Er zijn mensen die een camera hebben geplaatst, of daar iets op te zien valt, dus dat wachten we even af nu.\\', \\'Ik hoop dat we er nog een laatste goede week kunnen maken hier.\\', \\'Ik hoop het ook. Ze zijn open, de hele week.\\', \\'Ik begrijp dat ze niet alleen dingen gestolen hebben, maar ook echt gesloopt, hè?\\', \\'Ja, en je weet niet of dat ook dezelfde daders zijn die die inbraken hebben gepleegd.\\', \\'Maar ja, dat klopt, daar is ook bij een terras bijvoorbeeld niet ingebroken.\\', \\'Er zijn geen braaksporen, er is ook niks buit gemaakt, maar daar is dus wel wat vernield.\\', \\'Dus ja, en onder andere bijvoorbeeld een parasolvoet, weet je?\\', \\'Dat is ook allemaal wel gebeurd in diezelfde nacht, die nacht van zondag op maandag.\\', \\'Is er een parasolvoet meegenomen en die is dan ergens weer naar beneden gegooid.\\', \\'Het is allemaal zo ontzettend zinloos en vervelend voor die ondernemers.\\', \\'Gaat die politie hier nog iets aan doen?\\', \\'Nou, ja, zeker. We hebben de politie natuurlijk vandaag even gesproken.\\', \\'En als ze willen dus bij die pop-up-terrasse wel even een wat verscherpte surveillance gaan uitvoeren.\\', \\'Er is verder nog geen zicht op mogelijke verdachten, dus dat onderzoek loopt nog wel.\\', \\'En het is natuurlijk wel te hopen dat die inbrekers dus opgespoord worden.\\', \\'Dus die bossensomer, die duurt nog, het is nu woensdag tot en met aankomende zondag,\\', \\'dat is 5 september. Dus ik zou zeggen, ga er in ieder geval allemaal naartoe om die ondernemers te steunen.\\', \"En als je denkt, wat ligt die kanaal daar ineens in de tuin bij m\\'n buren,\", \\'dan houdt het dan ook even bij de politie, want dan zou dat zomaar de kanaal kunnen zijn van die meneer.\\', \\'In het Brabantse Leenden is vanochtend iets voor 10 uur een wielrenner zwaar gewond geraakt.\\', \\'De wielrenner kwam ongelukkig ten val toen hij vermoederlijk met zijn voorwiel tegen het achterwiel van zijn voorganger kwam.\\', \\'De wielrenner werd met een ambulance naar het ziekenhuis vervoerd en de twee fietsmaatjes van de man werden door hulpverleners opgevangen.\\', \\'Vanmiddag vond er een aanrijding plaats op de N65 bij het Brabantse Haaren.\\', \\'Een man en een vrouw stonden te wachten voor een stoplicht toen een busje met flinke snelheid achterop hun auto reed.\\', \\'De auto schoot weg en belandde met zijn neus in de sloot.\\', \\'De busje kwam enkele tientallen meters later tot stilstand.\\', \\'De bestuurder van het busje is met onbekende verwondingen afgevoerd naar het ziekenhuis.\\', \\'In alle vroegte viel de politie vanochtend binnen bij een woning in Alblasserdam.\\', \\'De bewoners werden rieuw uit hun slaap gewerkt en meegenomen naar het bureau.\\', \\'Met hulp van een politiespeurhond is de woning vervolgens volledig uitgekant,\\', \\'waarna een enorme hoeveelheid kontant geld uit het huis wordt meegenomen.\\', \\'Dit was niet de enige woning waar de politie vandaag een invalt deed.\\', \\'Tegelijkertijd stonden ze namelijk ook bij een woning in Barendrecht op de stoep.\\', \\'Bij de invallen zouden we met elkaar te maken hebben gehad.\\', \\'Elie, drukken dag voor de politie.\\', \\'Ja, zeker. Dat wordt een zogenaamde klapdag genoemd.\\', \\'En dat is ook echt waar een onderzoeksteam natuurlijk naartoe werkt.\\', \\'Dan wordt er op tegelijkertijd op diverse plaatsen invallen in stappen gedaan.\\', \\'En dat is natuurlijk ook omdat je niet wilt dat de tegenpartij elkaar gaat waarschuwen...\\', \\'omdat ze ergens voor de deur staan. Dus dat is een belangrijke reden.\\', \\'En natuurlijk omdat je zoveel mogelijk verdachten wilt aanhouden...\\', \\'die in dat onderzoek naar voren zijn gekomen.\\', \\'Ik denk ook wel dat er vooraf wat observaties zijn geweest op de diverse panden.\\', \\'Omdat je natuurlijk ook wel zeker van wilt zijn...\\', \\'dat die verdachten op dat moment ook echt op die locatie aanwezig zijn.\\', \\'En is er een reden bekend waarom de invallen zijn gepleid?\\', \\'Ja, bij de politie wel natuurlijk. En ook bij het Openbaar Ministerie.\\', \\'We hebben die vraag uiteraard gesteld, maar vanwege het lopende onderzoek...\\', \\'willen ze daar op dit moment geen mededelingen over doen.\\', \\'De landelijke unheid van de politie heeft wel aangegeven...\\', \\'dat ze verwachten dat de komende dagen daar meer informatie over naar buiten komt.\\', \\'Dus daar hebben we het eventjes mee te doen.\\', \\'Oké, opvallend hieraan Alblasser Dam. We hebben het al over gehad met die vergisontvoering.\\', \\'Want daar zou het mogelijke doelwit wonen.\\', \\'Wat kun je daar iets over zeggen?\\', \\'Nou, vorige week was er in ieder geval een explosie bij de woning van die man.\\', \\'En dat huis was al verzeegeld door de burgemeester.\\', \\'Dat was eigenlijk al een voorzorgsmaatregelen...\\', \\'omdat het bij het bedrijfspand al iets had plaatsgevonden.\\', \\'Dus er was al een soort van verwachting dat die woning al een soort object van doel zou kunnen worden.\\', \\'Vandaag, en dat is weer echt wel een ontwikkeling, laten politie weten...\\', \\'dat er een 43-jarige vrouw uit Rotterdam is aangehouden...\\', \\'als mogelijke betrokkenen bij de reeks van incidenten die zich hebben afgespeeld.\\', \\'Dus het lijkt erop alsof het net zich langzamerhand sluit.\\', \\'Opnieuw een ernstig ongeluk in Biese Mortel gisteren.\\', \\'Deze keer met een auto en een motorrijder.\\', \\'De motorrijder is daarbij zwaar gewond geraakt.\\', \\'Buurtbewoner Gerard Verhoeven, die het al heel wat keer voor zijn deur heeft zien gebeuren, is er helemaal klaar mee.\\', \\'Helaas, weer een ernstig ongeluk, het vorige ongeluk.\\', \\'Daar zit me nog vers in mijn geheugen.\\', \\'Het is twee maanden geleden, het is dat er nog één keer blikschade geweest.\\', \\'Nou, weer een ongeluk van zwaar gewonden.\\', \\'Ik vind het verschrikkelijk.\\', \\'Als ik nou op dit moment was, ik niet thuis, maar ik kreeg een appje van...\\', \\'dat is bij jullie weer een ernstig ongeluk gebeurd.\\', \\'Het begint met inderdaad heel erg te vervelen.\\', \\'Ik vind dat de gemeente is, waar ik altijd mee gestreek heb...\\', \\'nou onder de hand dus ik eerst je wakker moeten worden, dat ze die problemen hier eens oplossen.\\', \\'Ik ben met de gemeente bezig met verkeersadviseurs.\\', \\'Die doen allemaal toezeggingen van, ja, deze gemeente Tilburg zal er ook wel iets aan gaan doen.\\', \\'Maar of het afdoende is wat ze willen doen, ik geloof er niks van.\\', \\'Als ze hier geen snelheidsbeperking in opleggen,\\', \\'door middel van druppels, door middel van vluchtheuvels of betere bewijzering,\\', \\'dan geloof ik niet dat de laatste doden is gevallen, daar vallen er nog meer.\\', \\'Deze zal moeten vechten voor zijn leven, denk ik.\\', \\'Zo is ik hier de situatie bekijk, een motorrijder.\\', \\'En dan zo die motor zien liggen, die houten op zijn kop, ja.\\', \\'Jongens, waar zijn we mee bezig, wordt hier gewoon net zo hard gereden als op een snelweg.\\', \\'Dan mogen we de 100, maar er wordt hier ook dikbels genoeg 100 gereden.\\', \\'Dikbels genoeg, en dan vliegen ze van het spoor af.\\', \\'Zo die kruising over, het is onrepermetteerd dat daar niks aan gedaan wordt.\\', \\'Ik ben vorige maand 74 geworden en ben hier geboren.\\', \\'En ik wil er hier uitgedragen worden.\\', \\'Hoeveel is er in mijn kamer?\\', \\'Ik heb al zoveel gezien dat ik ze eigenlijk op deze leeftijd niet meer wil zien.\\', \\'Je ziet en hoort dat Gerard echt gefrustreerd is.\\', \\'Ja, ik heb echt met iemand te doen, ja.\\', \\'Die knocht al heel lang om dat opgelost te krijgen en het lijkt erop als of hij geen gehoor krijgt daarvoor.\\', \\'Je ziet ook heftig dingen gebeuren, voor je deur.\\', \\'In juni is er ook al een 61-jarige vrouw over leden begrepen.\\', \\'En hij woont dus met zijn vrouw, meneer Gerard noem ik hem maar even, want hij is 74.\\', \\'Hij woont met zijn vrouw echt op die kruising, dus hij ziet het ook allemaal gebeuren.\\', \\'En op maandag 21 juni, dat gaf je net al aan die datum, was er dus een auto met een paardetrailer.\\', \\'En we zien de beelden daar even van.\\', \"Die kwam dus in botsing met twee andere auto\\'s.\", \\'Nou, er waren vier ambulances en een trauma-helio nodig om de slachtoffers te redden.\\', \\'Meneer Gerard was thuis, die heeft één en twee gebeld.\\', \\'Hij heeft zelfs nog een zwaar gewonde vrouw uit de auto gehaald.\\', \\'En die vrouw is helaas aan haar verwondingen overleden.\\', \\'Dus die beste man maakt wel veel mee daar.\\', \\'Ja, meneer Gerard, zoals je het mooi zegt, is al een lange tijd in gesprek met de gemeente.\\', \\'Wat gaat hier gebeuren op dat kruisend en hoe lang gaat dat nog duren dan?\\', \\'Ja, dat is natuurlijk de grote vraag die hij zich terecht ook al lang stelt.\\', \\'Maar ik kan me wel voorstellen dat deze kruising inmiddels een zogenaamde black spot is geworden.\\', \\'Dat is een kwalificatie die een kruising of een weggedeelte krijgt wanneer daar veel ongelukken gebeuren.\\', \\'Hij sprak zelf al even over verkeersadviseurs.\\', \\'Nou, dat is dus wel ook wat er gebeurt.\\', \\'Dan komt er een verkeerscommissie waar ook de politie deel van uitmaakt.\\', \"En die gaan dan kijken hoe zo\\'n kruising veiliger gemaakt kan worden.\", \\'Nou, hij zegt, er wordt wel honderd kilometer per uur gereden.\\', \\'Dus ik kan me voorstellen dat er ook snelheidsbeperkende maatregelen gaan komen.\\', \\'Maar de gemeente Tilburg geeft in ieder geval aan dat wat ze nu willen gaan doen,\\', \\'dat ze waarschuwingsborden willen gaan plaatsen, ze willen rode fietsstroken gaan maken,\\', \\'ze willen de midden geleiden, dat is die witte druppel op dat kruispunt,\\', \\'dat willen ze allemaal wat verduidelijker.\\', \\'Nou, ik vind het allemaal niet persoonlijk hele heftige conclusies.\\', \\'Volgens mij moet je gewoon gaan flitsen, er moeten drenpels komen.\\', \\'En iedereen moet een beetje normaal doen op die kruising.\\', \\'Daar komt het natuurlijk uiteindelijk op neer.\\', \\'Laten we hopen dat het gaat helpen, dit najaar willen ze dat mee beginnen.\\', \\'En dat is het inmiddels bijna.\\', \\'Dan nieuws uit Ter Schelling.\\', \\'Vanochtend is daar in de zee een lichaam aangetroffen.\\', \\'De politie houdt rekening mee dat het onder zwemmer gaat...\\', \\'die vorige week donderdag vermist raakte.\\', \\'Een man vonden in de dertig was daar vanaf het strand gaan zwemmen en niet teruggekeerd.\\', \\'Zijn vriendin raakte in paniek toen ze hem niet meer zag en belde 1 in 2.\\', \\'Grote zoekenactie met diverse reddingsboot, een search-and-rescue-helicopter...\\', \\'en een vliegtuig van de kustwacht leven er toen niets op.\\', \\'In de zaastreken neemt de politie soms uitgebreide tijden om de verkeersregels uit te leggen.\\', \\'Na het een bestuurder daar vergeet zijn knippelicht aan te zetten...\\', \\'legt motoragent Hans nog 1 keer uit hoe het werkt.\\', \\'Het is de bedoeling dat je in Nederland richting gaat.\\', \\'Als je naar rechts gaat, doe je rechts.\\', \\'Als je naar links gaat, doe je links.\\', \\'Ik laat het even zien waar rechts zit en daar links zit.\\', \\'Dit is links. Doe maar aan.\\', \\'GELACH.\\', \\'MUZIEK.\\', \\'Wat?\\', \\'MUZIEK.\\', \\'Oké, merci beaucoup, monsieur.\\', \\'Beter dat Hans het zo heeft uitleggen, dan dat hij een dikke bekeuring zal krijgen.\\', \\'Ja, en dat klinkt natuurlijk een beetje lullig hoe hij dat zegt.\\', \\'Maar deze mannen hebben samen daar heel veel lol over gehad.\\', \\'De maker van het filmpje is de bestuurder zelf.\\', \\'En wij hebben begrepen dat hij zelf leraar Frans is.\\', \\'Dus misschien heeft Hans van hem links en rechts geleerd in het Frans.\\', \\'Dus het is goed.\\', \\'Eindsgoed al goed.\\', \\'Zo, tot zover 1-1-2 vandaag.\\', \\'Nog een hele fijne avond.\\', \\'En je weet het, alleen bij Spoot, bel 1-1-2.\\', \\'TV Gelderland 2021.\\']']\n"
     ]
    }
   ],
   "source": [
    "def read_text_file(filename):\n",
    "    with open(filename, 'r', encoding='utf-8') as file:\n",
    "        data = file.readlines()\n",
    "    # Optioneel: Verwijder de nieuwe regelkarakters ('\\n') aan het einde van elke regel\n",
    "    data = [line.rstrip('\\n') for line in data]\n",
    "    return data\n",
    "\n",
    "filename = 'aflevering112Vandaag_analyse.txt'\n",
    "data = read_text_file(filename)\n",
    "print(data)"
   ]
  },
  {
   "cell_type": "code",
   "execution_count": 4,
   "id": "3eb474ae",
   "metadata": {},
   "outputs": [
    {
     "name": "stdout",
     "output_type": "stream",
     "text": [
      "                                                 Regel\n",
      "0    'Elke dag wordt de land nummer 1 en 2 duizende...\n",
      "1    Hier zie je de belangrijkste meldingen van woe...\n",
      "2    Scooter Brand slaat over op woning in Noordwij...\n",
      "3    Inbreker op, heet er daad betrapt, in het Brab...\n",
      "4                 Zijn compagnon is nog voortvluchtig.\n",
      "..                                                 ...\n",
      "397                                 Eindsgoed al goed.\n",
      "398                       Zo, tot zover 1-1-2 vandaag.\n",
      "399                          Nog een hele fijne avond.\n",
      "400       En je weet het, alleen bij Spoot, bel 1-1-2.\n",
      "401                               TV Gelderland 2021.'\n",
      "\n",
      "[402 rows x 1 columns]\n"
     ]
    }
   ],
   "source": [
    "data_cleaned = data[0].strip('[]').replace('\\ ', '')\n",
    "transcripties = re.split(r\"', '|',|, '\", data_cleaned)\n",
    "\n",
    "transcripties = [transcriptie.strip() for transcriptie in transcripties]\n",
    "df = pd.DataFrame(transcripties, columns=['Regel'])\n",
    "\n",
    "print(df)"
   ]
  },
  {
   "cell_type": "code",
   "execution_count": 5,
   "id": "74cad759",
   "metadata": {},
   "outputs": [],
   "source": [
    "df.to_csv('112Vandaag_aflevering1_totaal.csv', index=False)"
   ]
  },
  {
   "cell_type": "markdown",
   "id": "38a65cda",
   "metadata": {},
   "source": [
    "### Lijst maken met de zinnen/transcripties uit aflevering"
   ]
  },
  {
   "cell_type": "code",
   "execution_count": 6,
   "id": "79b3cafb",
   "metadata": {},
   "outputs": [],
   "source": [
    "transcripties = pd.read_excel('112Vandaag_aflevering1_totaal.xlsx')\n",
    "transcripties = pd.DataFrame(transcripties)"
   ]
  },
  {
   "cell_type": "code",
   "execution_count": 7,
   "id": "554832ad",
   "metadata": {},
   "outputs": [],
   "source": [
    "transcripties_truth = transcripties['truth'].tolist()\n",
    "transcripties_whisper = transcripties['whisper'].tolist()"
   ]
  },
  {
   "cell_type": "markdown",
   "id": "ba2d6c70",
   "metadata": {},
   "source": [
    "### Verkeerd voorspelde woorden lijst maken en POS-tags geven"
   ]
  },
  {
   "cell_type": "code",
   "execution_count": 8,
   "id": "713d1ff8",
   "metadata": {},
   "outputs": [
    {
     "name": "stdout",
     "output_type": "stream",
     "text": [
      "Collecting nl-core-news-md==3.3.0\n",
      "  Downloading https://github.com/explosion/spacy-models/releases/download/nl_core_news_md-3.3.0/nl_core_news_md-3.3.0-py3-none-any.whl (42.8 MB)\n",
      "     ---------------------------------------- 42.8/42.8 MB 9.3 MB/s eta 0:00:00\n",
      "Requirement already satisfied: spacy<3.4.0,>=3.3.0.dev0 in c:\\users\\krist\\anaconda3\\lib\\site-packages (from nl-core-news-md==3.3.0) (3.3.1)\n",
      "Requirement already satisfied: spacy-legacy<3.1.0,>=3.0.9 in c:\\users\\krist\\anaconda3\\lib\\site-packages (from spacy<3.4.0,>=3.3.0.dev0->nl-core-news-md==3.3.0) (3.0.9)\n",
      "Requirement already satisfied: wasabi<1.1.0,>=0.9.1 in c:\\users\\krist\\anaconda3\\lib\\site-packages (from spacy<3.4.0,>=3.3.0.dev0->nl-core-news-md==3.3.0) (0.9.1)\n",
      "Requirement already satisfied: thinc<8.1.0,>=8.0.14 in c:\\users\\krist\\anaconda3\\lib\\site-packages (from spacy<3.4.0,>=3.3.0.dev0->nl-core-news-md==3.3.0) (8.0.15)\n",
      "Requirement already satisfied: setuptools in c:\\users\\krist\\anaconda3\\lib\\site-packages (from spacy<3.4.0,>=3.3.0.dev0->nl-core-news-md==3.3.0) (65.6.3)\n",
      "Requirement already satisfied: jinja2 in c:\\users\\krist\\anaconda3\\lib\\site-packages (from spacy<3.4.0,>=3.3.0.dev0->nl-core-news-md==3.3.0) (3.1.2)\n",
      "Requirement already satisfied: numpy>=1.15.0 in c:\\users\\krist\\anaconda3\\lib\\site-packages (from spacy<3.4.0,>=3.3.0.dev0->nl-core-news-md==3.3.0) (1.22.4)\n",
      "Requirement already satisfied: tqdm<5.0.0,>=4.38.0 in c:\\users\\krist\\anaconda3\\lib\\site-packages (from spacy<3.4.0,>=3.3.0.dev0->nl-core-news-md==3.3.0) (4.64.1)\n",
      "Requirement already satisfied: packaging>=20.0 in c:\\users\\krist\\anaconda3\\lib\\site-packages (from spacy<3.4.0,>=3.3.0.dev0->nl-core-news-md==3.3.0) (21.3)\n",
      "Requirement already satisfied: blis<0.8.0,>=0.4.0 in c:\\users\\krist\\anaconda3\\lib\\site-packages (from spacy<3.4.0,>=3.3.0.dev0->nl-core-news-md==3.3.0) (0.7.7)\n",
      "Requirement already satisfied: typer<0.5.0,>=0.3.0 in c:\\users\\krist\\anaconda3\\lib\\site-packages (from spacy<3.4.0,>=3.3.0.dev0->nl-core-news-md==3.3.0) (0.4.1)\n",
      "Requirement already satisfied: srsly<3.0.0,>=2.4.3 in c:\\users\\krist\\anaconda3\\lib\\site-packages (from spacy<3.4.0,>=3.3.0.dev0->nl-core-news-md==3.3.0) (2.4.3)\n",
      "Requirement already satisfied: pathy>=0.3.5 in c:\\users\\krist\\anaconda3\\lib\\site-packages (from spacy<3.4.0,>=3.3.0.dev0->nl-core-news-md==3.3.0) (0.6.1)\n",
      "Requirement already satisfied: catalogue<2.1.0,>=2.0.6 in c:\\users\\krist\\anaconda3\\lib\\site-packages (from spacy<3.4.0,>=3.3.0.dev0->nl-core-news-md==3.3.0) (2.0.7)\n",
      "Requirement already satisfied: langcodes<4.0.0,>=3.2.0 in c:\\users\\krist\\anaconda3\\lib\\site-packages (from spacy<3.4.0,>=3.3.0.dev0->nl-core-news-md==3.3.0) (3.3.0)\n",
      "Requirement already satisfied: requests<3.0.0,>=2.13.0 in c:\\users\\krist\\anaconda3\\lib\\site-packages (from spacy<3.4.0,>=3.3.0.dev0->nl-core-news-md==3.3.0) (2.28.1)\n",
      "Requirement already satisfied: pydantic!=1.8,!=1.8.1,<1.9.0,>=1.7.4 in c:\\users\\krist\\anaconda3\\lib\\site-packages (from spacy<3.4.0,>=3.3.0.dev0->nl-core-news-md==3.3.0) (1.8.2)\n",
      "Requirement already satisfied: preshed<3.1.0,>=3.0.2 in c:\\users\\krist\\anaconda3\\lib\\site-packages (from spacy<3.4.0,>=3.3.0.dev0->nl-core-news-md==3.3.0) (3.0.6)\n",
      "Requirement already satisfied: murmurhash<1.1.0,>=0.28.0 in c:\\users\\krist\\anaconda3\\lib\\site-packages (from spacy<3.4.0,>=3.3.0.dev0->nl-core-news-md==3.3.0) (1.0.7)\n",
      "Requirement already satisfied: spacy-loggers<2.0.0,>=1.0.0 in c:\\users\\krist\\anaconda3\\lib\\site-packages (from spacy<3.4.0,>=3.3.0.dev0->nl-core-news-md==3.3.0) (1.0.1)\n",
      "Requirement already satisfied: cymem<2.1.0,>=2.0.2 in c:\\users\\krist\\anaconda3\\lib\\site-packages (from spacy<3.4.0,>=3.3.0.dev0->nl-core-news-md==3.3.0) (2.0.6)\n",
      "Requirement already satisfied: pyparsing!=3.0.5,>=2.0.2 in c:\\users\\krist\\anaconda3\\lib\\site-packages (from packaging>=20.0->spacy<3.4.0,>=3.3.0.dev0->nl-core-news-md==3.3.0) (3.0.9)\n",
      "Requirement already satisfied: smart-open<6.0.0,>=5.0.0 in c:\\users\\krist\\anaconda3\\lib\\site-packages (from pathy>=0.3.5->spacy<3.4.0,>=3.3.0.dev0->nl-core-news-md==3.3.0) (5.2.1)\n",
      "Requirement already satisfied: typing-extensions>=3.7.4.3 in c:\\users\\krist\\anaconda3\\lib\\site-packages (from pydantic!=1.8,!=1.8.1,<1.9.0,>=1.7.4->spacy<3.4.0,>=3.3.0.dev0->nl-core-news-md==3.3.0) (4.4.0)\n",
      "Requirement already satisfied: certifi>=2017.4.17 in c:\\users\\krist\\anaconda3\\lib\\site-packages (from requests<3.0.0,>=2.13.0->spacy<3.4.0,>=3.3.0.dev0->nl-core-news-md==3.3.0) (2022.12.7)\n",
      "Requirement already satisfied: urllib3<1.27,>=1.21.1 in c:\\users\\krist\\anaconda3\\lib\\site-packages (from requests<3.0.0,>=2.13.0->spacy<3.4.0,>=3.3.0.dev0->nl-core-news-md==3.3.0) (1.26.13)\n",
      "Requirement already satisfied: charset-normalizer<3,>=2 in c:\\users\\krist\\anaconda3\\lib\\site-packages (from requests<3.0.0,>=2.13.0->spacy<3.4.0,>=3.3.0.dev0->nl-core-news-md==3.3.0) (2.0.4)\n",
      "Requirement already satisfied: idna<4,>=2.5 in c:\\users\\krist\\anaconda3\\lib\\site-packages (from requests<3.0.0,>=2.13.0->spacy<3.4.0,>=3.3.0.dev0->nl-core-news-md==3.3.0) (3.4)\n",
      "Requirement already satisfied: colorama in c:\\users\\krist\\anaconda3\\lib\\site-packages (from tqdm<5.0.0,>=4.38.0->spacy<3.4.0,>=3.3.0.dev0->nl-core-news-md==3.3.0) (0.4.5)\n",
      "Requirement already satisfied: click<9.0.0,>=7.1.1 in c:\\users\\krist\\anaconda3\\lib\\site-packages (from typer<0.5.0,>=0.3.0->spacy<3.4.0,>=3.3.0.dev0->nl-core-news-md==3.3.0) (8.1.3)\n",
      "Requirement already satisfied: MarkupSafe>=2.0 in c:\\users\\krist\\anaconda3\\lib\\site-packages (from jinja2->spacy<3.4.0,>=3.3.0.dev0->nl-core-news-md==3.3.0) (2.1.1)\n",
      "[+] Download and installation successful\n",
      "You can now load the package via spacy.load('nl_core_news_md')\n"
     ]
    }
   ],
   "source": [
    "!python -m spacy download nl_core_news_md\n",
    "nlp = spacy.load(\"nl_core_news_md\")"
   ]
  },
  {
   "cell_type": "code",
   "execution_count": 9,
   "id": "62869a72",
   "metadata": {
    "scrolled": true
   },
   "outputs": [
    {
     "name": "stderr",
     "output_type": "stream",
     "text": [
      "100%|████████████████████████████████████████████████████████████████████████████████| 401/401 [00:21<00:00, 18.27it/s]\n"
     ]
    }
   ],
   "source": [
    "import warnings\n",
    "\n",
    "def ignore_warnings():\n",
    "    warnings.filterwarnings(\"ignore\")\n",
    "ignore_warnings()\n",
    "\n",
    "df = pd.DataFrame(columns=['Verkeerd woord', 'POS-tag'])\n",
    "\n",
    "for i in tqdm(range(len(transcripties['truth']))):\n",
    "    goed = transcripties_truth[i]\n",
    "    doc_goed = nlp(goed)\n",
    "\n",
    "    whisper = transcripties_whisper[i]\n",
    "    doc = nlp(whisper)\n",
    "\n",
    "    doc_list = str(doc).split()\n",
    "    doc_goed_list = str(doc_goed).split()\n",
    "\n",
    "    tags = [token.pos_ for token in doc]\n",
    "    tags_goed = [token.pos_ for token in doc_goed]\n",
    "    \n",
    "    verkeerd_voorspeld = []\n",
    "    for woord in doc_goed_list:\n",
    "        if woord not in doc_list:\n",
    "            verkeerd_voorspeld.append(woord)\n",
    "\n",
    "    woorden = []\n",
    "    tags = []\n",
    "\n",
    "    for token_goed in doc_goed:\n",
    "        if token_goed.tag_.split('|')[0] != '_SP':\n",
    "            if len(token_goed.text)>2:\n",
    "                woord = token_goed.text\n",
    "                tag = token_goed.tag_.split('|')[0]\n",
    "                woorden.append(woord)\n",
    "                tags.append(tag)\n",
    "\n",
    "    ground_truth_pos_tags = list(zip(woorden, tags))\n",
    "\n",
    "    verkeerd_voorspeld = []\n",
    "    for woord, tag in ground_truth_pos_tags:\n",
    "        if woord not in doc_list:\n",
    "            verkeerd_voorspeld.append((woord, tag))\n",
    "                \n",
    "    for woord, tag in verkeerd_voorspeld:\n",
    "        df = df.append({'Verkeerd woord': woord, 'POS-tag': tag}, ignore_index=True)"
   ]
  },
  {
   "cell_type": "code",
   "execution_count": 8,
   "id": "b555133a",
   "metadata": {},
   "outputs": [
    {
     "data": {
      "text/html": [
       "<div>\n",
       "<style scoped>\n",
       "    .dataframe tbody tr th:only-of-type {\n",
       "        vertical-align: middle;\n",
       "    }\n",
       "\n",
       "    .dataframe tbody tr th {\n",
       "        vertical-align: top;\n",
       "    }\n",
       "\n",
       "    .dataframe thead th {\n",
       "        text-align: right;\n",
       "    }\n",
       "</style>\n",
       "<table border=\"1\" class=\"dataframe\">\n",
       "  <thead>\n",
       "    <tr style=\"text-align: right;\">\n",
       "      <th></th>\n",
       "      <th>Verkeerd woord</th>\n",
       "      <th>POS-tag</th>\n",
       "    </tr>\n",
       "  </thead>\n",
       "  <tbody>\n",
       "    <tr>\n",
       "      <th>0</th>\n",
       "      <td>alarmnummer</td>\n",
       "      <td>N</td>\n",
       "    </tr>\n",
       "    <tr>\n",
       "      <th>1</th>\n",
       "      <td>1-1-2</td>\n",
       "      <td>TW</td>\n",
       "    </tr>\n",
       "    <tr>\n",
       "      <th>2</th>\n",
       "      <td>gebeld</td>\n",
       "      <td>WW</td>\n",
       "    </tr>\n",
       "    <tr>\n",
       "      <th>3</th>\n",
       "      <td>september</td>\n",
       "      <td>N</td>\n",
       "    </tr>\n",
       "    <tr>\n",
       "      <th>4</th>\n",
       "      <td>Scooterbrand</td>\n",
       "      <td>N</td>\n",
       "    </tr>\n",
       "    <tr>\n",
       "      <th>5</th>\n",
       "      <td>Noordwijk</td>\n",
       "      <td>N</td>\n",
       "    </tr>\n",
       "    <tr>\n",
       "      <th>6</th>\n",
       "      <td>alert</td>\n",
       "      <td>ADJ</td>\n",
       "    </tr>\n",
       "    <tr>\n",
       "      <th>7</th>\n",
       "      <td>betrapt</td>\n",
       "      <td>WW</td>\n",
       "    </tr>\n",
       "    <tr>\n",
       "      <th>8</th>\n",
       "      <td>Vucht</td>\n",
       "      <td>N</td>\n",
       "    </tr>\n",
       "    <tr>\n",
       "      <th>9</th>\n",
       "      <td>voortvluchtig</td>\n",
       "      <td>ADJ</td>\n",
       "    </tr>\n",
       "  </tbody>\n",
       "</table>\n",
       "</div>"
      ],
      "text/plain": [
       "  Verkeerd woord POS-tag\n",
       "0    alarmnummer       N\n",
       "1          1-1-2      TW\n",
       "2         gebeld      WW\n",
       "3      september       N\n",
       "4   Scooterbrand       N\n",
       "5      Noordwijk       N\n",
       "6          alert     ADJ\n",
       "7        betrapt      WW\n",
       "8          Vucht       N\n",
       "9  voortvluchtig     ADJ"
      ]
     },
     "execution_count": 8,
     "metadata": {},
     "output_type": "execute_result"
    }
   ],
   "source": [
    "df.head(10)"
   ]
  },
  {
   "cell_type": "code",
   "execution_count": 10,
   "id": "ba4ecca0",
   "metadata": {},
   "outputs": [],
   "source": [
    "df.to_csv('112Vandaag_aflevering1_verkeerdewoorden.csv', index=False)"
   ]
  },
  {
   "cell_type": "markdown",
   "id": "d3cf4896",
   "metadata": {},
   "source": [
    "#### Alle woorden lijst maken"
   ]
  },
  {
   "cell_type": "code",
   "execution_count": 12,
   "id": "da49731f",
   "metadata": {},
   "outputs": [
    {
     "name": "stderr",
     "output_type": "stream",
     "text": [
      "100%|████████████████████████████████████████████████████████████████████████████████| 401/401 [00:22<00:00, 17.61it/s]\n"
     ]
    }
   ],
   "source": [
    "ignore_warnings()\n",
    "\n",
    "df_alles = pd.DataFrame(columns=['Woord', 'POS-tag'])\n",
    "\n",
    "for i in tqdm(range(len(transcripties['truth']))):\n",
    "    goed = transcripties_truth[i]\n",
    "    doc_goed = nlp(goed)\n",
    "\n",
    "    doc_goed_list = str(doc_goed).split()\n",
    "\n",
    "    tags_goed = [token.pos_ for token in doc_goed]\n",
    "    \n",
    "    alle_woorden = []\n",
    "    for woord in doc_goed_list:\n",
    "        alle_woorden.append(woord)\n",
    "\n",
    "    woorden = []\n",
    "    tags = []\n",
    "\n",
    "    for token_goed in doc_goed:\n",
    "        if token_goed.tag_.split('|')[0] != '_SP':\n",
    "            if len(token_goed.text)>2:\n",
    "                woord = token_goed.text\n",
    "                tag = token_goed.tag_.split('|')[0]\n",
    "                woorden.append(woord)\n",
    "                tags.append(tag)\n",
    "\n",
    "    ground_truth_pos_tags = list(zip(woorden, tags))\n",
    "\n",
    "    alle_woorden = []\n",
    "    for woord, tag in ground_truth_pos_tags:\n",
    "        alle_woorden.append((woord, tag))\n",
    "                \n",
    "    for woord, tag in alle_woorden:\n",
    "        df_alles = df_alles.append({'Woord': woord, 'POS-tag': tag}, ignore_index=True)"
   ]
  },
  {
   "cell_type": "code",
   "execution_count": 113,
   "id": "5ed0fc9a",
   "metadata": {},
   "outputs": [
    {
     "data": {
      "text/html": [
       "<div>\n",
       "<style scoped>\n",
       "    .dataframe tbody tr th:only-of-type {\n",
       "        vertical-align: middle;\n",
       "    }\n",
       "\n",
       "    .dataframe tbody tr th {\n",
       "        vertical-align: top;\n",
       "    }\n",
       "\n",
       "    .dataframe thead th {\n",
       "        text-align: right;\n",
       "    }\n",
       "</style>\n",
       "<table border=\"1\" class=\"dataframe\">\n",
       "  <thead>\n",
       "    <tr style=\"text-align: right;\">\n",
       "      <th></th>\n",
       "      <th>Woord</th>\n",
       "      <th>POS-tag</th>\n",
       "    </tr>\n",
       "  </thead>\n",
       "  <tbody>\n",
       "    <tr>\n",
       "      <th>0</th>\n",
       "      <td>Elke</td>\n",
       "      <td>VNW</td>\n",
       "    </tr>\n",
       "    <tr>\n",
       "      <th>1</th>\n",
       "      <td>dag</td>\n",
       "      <td>N</td>\n",
       "    </tr>\n",
       "    <tr>\n",
       "      <th>2</th>\n",
       "      <td>wordt</td>\n",
       "      <td>WW</td>\n",
       "    </tr>\n",
       "    <tr>\n",
       "      <th>3</th>\n",
       "      <td>alarmnummer</td>\n",
       "      <td>N</td>\n",
       "    </tr>\n",
       "    <tr>\n",
       "      <th>4</th>\n",
       "      <td>1-1-2</td>\n",
       "      <td>TW</td>\n",
       "    </tr>\n",
       "  </tbody>\n",
       "</table>\n",
       "</div>"
      ],
      "text/plain": [
       "         Woord POS-tag\n",
       "0         Elke     VNW\n",
       "1          dag       N\n",
       "2        wordt      WW\n",
       "3  alarmnummer       N\n",
       "4        1-1-2      TW"
      ]
     },
     "execution_count": 113,
     "metadata": {},
     "output_type": "execute_result"
    }
   ],
   "source": [
    "df_alles.head()"
   ]
  },
  {
   "cell_type": "code",
   "execution_count": 114,
   "id": "afdad05b",
   "metadata": {},
   "outputs": [],
   "source": [
    "df_alles.to_csv('112Vandaag_aflevering1_allewoorden.csv', index=False)"
   ]
  },
  {
   "cell_type": "markdown",
   "id": "e0167a82",
   "metadata": {},
   "source": [
    "### Koppelen verkeerd voorspelde woorden aan personen en bijbehorende gegevens"
   ]
  },
  {
   "cell_type": "code",
   "execution_count": 122,
   "id": "f7194c04",
   "metadata": {},
   "outputs": [],
   "source": [
    "woorden = pd.read_csv('112Vandaag_aflevering1_verkeerdewoorden.csv')\n",
    "woorden = pd.DataFrame(woorden)"
   ]
  },
  {
   "cell_type": "code",
   "execution_count": 123,
   "id": "e2589950",
   "metadata": {},
   "outputs": [
    {
     "name": "stdout",
     "output_type": "stream",
     "text": [
      "    Verkeerd woord POS-tag Transcriptie-index\n",
      "0      alarmnummer       N                  0\n",
      "1            1-1-2      TW                  0\n",
      "2           gebeld      WW                  0\n",
      "3        september       N                  1\n",
      "4     Scooterbrand       N                  2\n",
      "..             ...     ...                ...\n",
      "778     112Vandaag      TW                398\n",
      "779          avond       N                399\n",
      "780            het     VNW                400\n",
      "781          spoed       N                400\n",
      "782          1-1-2      TW                400\n",
      "\n",
      "[783 rows x 3 columns]\n"
     ]
    }
   ],
   "source": [
    "woorden['Transcriptie-index'] = None\n",
    "\n",
    "huidige_transcriptie_index = 0\n",
    "\n",
    "for index, row in woorden.iterrows():\n",
    "    verkeerd_voorspeld_woord = row['Verkeerd woord']\n",
    "    \n",
    "    transcriptie_index = None\n",
    "    for i in range(huidige_transcriptie_index, len(transcripties_truth)):\n",
    "        transcriptie = transcripties_truth[i]\n",
    "        if verkeerd_voorspeld_woord in transcriptie:\n",
    "            transcriptie_index = i\n",
    "            break\n",
    "    \n",
    "    woorden.at[index, 'Transcriptie-index'] = transcriptie_index\n",
    "    \n",
    "    if transcriptie_index is not None:\n",
    "        huidige_transcriptie_index = transcriptie_index\n",
    "\n",
    "print(woorden)"
   ]
  },
  {
   "cell_type": "code",
   "execution_count": 124,
   "id": "2695c15f",
   "metadata": {},
   "outputs": [],
   "source": [
    "gegevens = pd.read_excel('112aflevering1gegevens.xlsx')\n",
    "gegevens = pd.DataFrame(gegevens)\n",
    "\n",
    "woorden['geslacht'] = None\n",
    "woorden['leeftijd'] = None\n",
    "woorden['dialectregio'] = None\n",
    "woorden['studio'] = None"
   ]
  },
  {
   "cell_type": "code",
   "execution_count": 125,
   "id": "20fe2714",
   "metadata": {},
   "outputs": [],
   "source": [
    "woorden = woorden.merge(transcripties['spreker_id'].reset_index(), left_on='Transcriptie-index', right_index=True)\n",
    "woorden = woorden.merge(gegevens, on='spreker_id', how='left')"
   ]
  },
  {
   "cell_type": "code",
   "execution_count": 126,
   "id": "c6b3db86",
   "metadata": {},
   "outputs": [],
   "source": [
    "woorden = woorden.drop(['geslacht_x', 'leeftijd', 'dialectregio_x','studio_x','index'], axis=1)"
   ]
  },
  {
   "cell_type": "code",
   "execution_count": 90,
   "id": "f298f57e",
   "metadata": {
    "scrolled": true
   },
   "outputs": [
    {
     "data": {
      "text/html": [
       "<div>\n",
       "<style scoped>\n",
       "    .dataframe tbody tr th:only-of-type {\n",
       "        vertical-align: middle;\n",
       "    }\n",
       "\n",
       "    .dataframe tbody tr th {\n",
       "        vertical-align: top;\n",
       "    }\n",
       "\n",
       "    .dataframe thead th {\n",
       "        text-align: right;\n",
       "    }\n",
       "</style>\n",
       "<table border=\"1\" class=\"dataframe\">\n",
       "  <thead>\n",
       "    <tr style=\"text-align: right;\">\n",
       "      <th></th>\n",
       "      <th>Verkeerd woord</th>\n",
       "      <th>POS-tag</th>\n",
       "      <th>Transcriptie-index</th>\n",
       "      <th>index</th>\n",
       "      <th>spreker_id</th>\n",
       "      <th>geslacht_y</th>\n",
       "      <th>leeftijdscategorie</th>\n",
       "      <th>dialectregio_y</th>\n",
       "      <th>studio_y</th>\n",
       "    </tr>\n",
       "  </thead>\n",
       "  <tbody>\n",
       "    <tr>\n",
       "      <th>0</th>\n",
       "      <td>alarmnummer</td>\n",
       "      <td>N</td>\n",
       "      <td>0</td>\n",
       "      <td>0</td>\n",
       "      <td>1.0</td>\n",
       "      <td>F</td>\n",
       "      <td>2.0</td>\n",
       "      <td>2.0</td>\n",
       "      <td>ja</td>\n",
       "    </tr>\n",
       "    <tr>\n",
       "      <th>1</th>\n",
       "      <td>1-1-2</td>\n",
       "      <td>TW</td>\n",
       "      <td>0</td>\n",
       "      <td>0</td>\n",
       "      <td>1.0</td>\n",
       "      <td>F</td>\n",
       "      <td>2.0</td>\n",
       "      <td>2.0</td>\n",
       "      <td>ja</td>\n",
       "    </tr>\n",
       "    <tr>\n",
       "      <th>2</th>\n",
       "      <td>gebeld</td>\n",
       "      <td>WW</td>\n",
       "      <td>0</td>\n",
       "      <td>0</td>\n",
       "      <td>1.0</td>\n",
       "      <td>F</td>\n",
       "      <td>2.0</td>\n",
       "      <td>2.0</td>\n",
       "      <td>ja</td>\n",
       "    </tr>\n",
       "    <tr>\n",
       "      <th>3</th>\n",
       "      <td>september</td>\n",
       "      <td>N</td>\n",
       "      <td>1</td>\n",
       "      <td>1</td>\n",
       "      <td>1.0</td>\n",
       "      <td>F</td>\n",
       "      <td>2.0</td>\n",
       "      <td>2.0</td>\n",
       "      <td>ja</td>\n",
       "    </tr>\n",
       "    <tr>\n",
       "      <th>4</th>\n",
       "      <td>Scooterbrand</td>\n",
       "      <td>N</td>\n",
       "      <td>2</td>\n",
       "      <td>2</td>\n",
       "      <td>1.0</td>\n",
       "      <td>F</td>\n",
       "      <td>2.0</td>\n",
       "      <td>2.0</td>\n",
       "      <td>ja</td>\n",
       "    </tr>\n",
       "  </tbody>\n",
       "</table>\n",
       "</div>"
      ],
      "text/plain": [
       "  Verkeerd woord POS-tag Transcriptie-index  index  spreker_id geslacht_y  \\\n",
       "0    alarmnummer       N                  0      0         1.0          F   \n",
       "1          1-1-2      TW                  0      0         1.0          F   \n",
       "2         gebeld      WW                  0      0         1.0          F   \n",
       "3      september       N                  1      1         1.0          F   \n",
       "4   Scooterbrand       N                  2      2         1.0          F   \n",
       "\n",
       "   leeftijdscategorie  dialectregio_y studio_y  \n",
       "0                 2.0             2.0       ja  \n",
       "1                 2.0             2.0       ja  \n",
       "2                 2.0             2.0       ja  \n",
       "3                 2.0             2.0       ja  \n",
       "4                 2.0             2.0       ja  "
      ]
     },
     "execution_count": 90,
     "metadata": {},
     "output_type": "execute_result"
    }
   ],
   "source": [
    "woorden.head()"
   ]
  },
  {
   "cell_type": "markdown",
   "id": "db3fce03",
   "metadata": {},
   "source": [
    "## Morfologische analyses"
   ]
  },
  {
   "cell_type": "code",
   "execution_count": 225,
   "id": "0f501f06",
   "metadata": {},
   "outputs": [
    {
     "name": "stdout",
     "output_type": "stream",
     "text": [
      "...             28\n",
      "doen            12\n",
      "Nou             12\n",
      "1-1-2           10\n",
      "van              9\n",
      "één              9\n",
      "goed             8\n",
      "zijn             7\n",
      "aan              6\n",
      "hebben           6\n",
      "brandblusser     5\n",
      "blussen          5\n",
      "gebeuren         5\n",
      "auto             5\n",
      "worden           5\n",
      "aangehouden      4\n",
      "het              4\n",
      "ingebroken       4\n",
      "politie          4\n",
      "zeker            4\n",
      "brandweer        4\n",
      "Name: Verkeerd woord, dtype: int64\n"
     ]
    }
   ],
   "source": [
    "word_counts = woorden['Verkeerd woord'].value_counts()\n",
    "\n",
    "sorted_words = word_counts.sort_values(ascending=False)\n",
    "top_n = 21\n",
    "print(sorted_words.head(top_n))"
   ]
  },
  {
   "cell_type": "code",
   "execution_count": 227,
   "id": "41d34f46",
   "metadata": {
    "scrolled": true
   },
   "outputs": [
    {
     "name": "stdout",
     "output_type": "stream",
     "text": [
      "Fout: ... - Frequentie: 28\n",
      "Fout: doen - Frequentie: 12\n",
      "Fout: Nou - Frequentie: 12\n",
      "Fout: 1-1-2 - Frequentie: 10\n",
      "Fout: van - Frequentie: 9\n",
      "Fout: één - Frequentie: 9\n",
      "Fout: goed - Frequentie: 8\n",
      "Fout: zijn - Frequentie: 7\n",
      "Fout: aan - Frequentie: 6\n",
      "Fout: hebben - Frequentie: 6\n",
      "Fout: blussen - Frequentie: 5\n",
      "Fout: brandblusser - Frequentie: 5\n",
      "Fout: auto - Frequentie: 5\n",
      "Fout: gebeuren - Frequentie: 5\n",
      "Fout: worden - Frequentie: 5\n",
      "Fout: politie - Frequentie: 4\n",
      "Fout: brandweer - Frequentie: 4\n",
      "Fout: aangehouden - Frequentie: 4\n",
      "Fout: het - Frequentie: 4\n",
      "Fout: ingebroken - Frequentie: 4\n",
      "Unieke foutpatronen:\n",
      "g\n",
      "W\n",
      "z\n",
      "e\n",
      "H\n",
      "F\n",
      "v\n",
      "u\n",
      "J\n",
      "G\n",
      ".\n",
      "h\n",
      "n\n",
      "I\n",
      "N\n",
      "B\n",
      "m\n",
      "V\n",
      "M\n",
      "P\n",
      "K\n",
      "T\n",
      "U\n",
      "é\n",
      "k\n",
      "O\n",
      "l\n",
      "d\n",
      "a\n",
      "b\n",
      "f\n",
      "p\n",
      "t\n",
      "r\n",
      "S\n",
      "R\n",
      "A\n",
      "c\n",
      "o\n",
      "s\n",
      "E\n",
      "i\n",
      "1\n",
      "Z\n",
      "D\n",
      "j\n",
      "w\n"
     ]
    }
   ],
   "source": [
    "from collections import Counter\n",
    "\n",
    "fouten = woorden['Verkeerd woord'].tolist()\n",
    "fouten_frequentie = Counter(fouten).most_common()\n",
    "\n",
    "for fout, frequentie in fouten_frequentie[:20]:\n",
    "    print(f\"Fout: {fout} - Frequentie: {frequentie}\")\n",
    "\n",
    "foutpatronen = set()\n",
    "for fout in fouten:\n",
    "    foutpatroon = fout[0]\n",
    "    foutpatronen.add(foutpatroon)\n",
    "\n",
    "print(\"Unieke foutpatronen:\")\n",
    "for patroon in foutpatronen:\n",
    "    print(patroon)\n"
   ]
  },
  {
   "cell_type": "code",
   "execution_count": 237,
   "id": "b1b8cc73",
   "metadata": {},
   "outputs": [
    {
     "name": "stdout",
     "output_type": "stream",
     "text": [
      "[(('Other', 'PUNCT'), 3), (('SCONJ', 'PRON', 'ADP', 'ADJ', 'VERB', 'PUNCT', 'VERB', 'PRON', 'ADJ', 'PUNCT'), 2), (('VERB', 'PUNCT'), 2), (('DET', 'N', 'AUX', 'DET', 'N', 'N', 'NUM', 'CCNOJ', 'NUM', 'NUM', 'N', 'VERB', 'PUNCT'), 1), (('ADV', 'VERB', 'PRON', 'DET', 'ADJ', 'N', 'ADP', 'Other', 'NUM', 'Other', 'PUNCT'), 1), (('N', 'Other', 'VERB', 'ADP', 'ADP', 'N', 'ADP', 'Other', 'PUNCT', 'N', 'VERB', 'ADJ', 'PUNCT'), 1), (('Other', 'ADP', 'PUNCT', 'VERB', 'ADV', 'N', 'VERB', 'PUNCT', 'ADP', 'DET', 'ADJ', 'N', 'PUNCT'), 1), (('PRON', 'N', 'AUX', 'ADV', 'ADJ', 'PUNCT'), 1), (('N', 'VERB', 'N', 'ADP', 'DET', 'N', 'ADP', 'Other', 'PUNCT'), 1), (('CCNOJ', 'Other', 'N', 'ADP', 'ADV', 'PRON', 'VERB', 'SCONJ', 'DET', 'N', 'ADP', 'Other', 'Other', 'PUNCT'), 1)]\n"
     ]
    }
   ],
   "source": [
    "# Syntactisch\n",
    "import spacy\n",
    "\n",
    "nlp = spacy.load('nl_core_news_md')\n",
    "\n",
    "sentences = list(transcripties['whisper'])\n",
    "\n",
    "syntactic_patterns = []\n",
    "for sentence in sentences:\n",
    "    doc = nlp(sentence)\n",
    "    patterns = []\n",
    "    for token in doc:\n",
    "        if token.pos_ == 'NOUN':\n",
    "            patterns.append('N')\n",
    "        elif token.pos_ == 'PUNCT':\n",
    "            patterns.append('PUNCT')\n",
    "        elif token.pos_ == 'ADJ':\n",
    "            patterns.append('ADJ')\n",
    "        elif token.pos_ == 'ADV':\n",
    "            patterns.append('ADV')\n",
    "        elif token.pos_ == 'AUX':\n",
    "            patterns.append('AUX')\n",
    "        elif token.pos_ == 'CCONJ':\n",
    "            patterns.append('CCNOJ')\n",
    "        elif token.pos_ == 'VERB':\n",
    "            patterns.append('VERB')\n",
    "        elif token.pos_ == 'PRON':\n",
    "            patterns.append('PRON')\n",
    "        elif token.pos_ == 'DET':\n",
    "            patterns.append('DET')\n",
    "        elif token.pos_ == 'ADP':\n",
    "            patterns.append('ADP')\n",
    "        elif token.pos_ == 'NUM':\n",
    "            patterns.append('NUM')\n",
    "        elif token.pos_ == 'INTJ':\n",
    "            patterns.append('INTJ')\n",
    "        elif token.pos_ == 'SCONJ':\n",
    "            patterns.append('SCONJ')\n",
    "        elif token.pos_ == 'SYM':\n",
    "            patterns.append('SYM')\n",
    "        elif token.pos_ == 'SPACE':\n",
    "            patterns.append('SPACE')\n",
    "        # Voeg hier meer syntactische patronen toe op basis van de POS-tags van spacy\n",
    "        else:\n",
    "            patterns.append('Other')\n",
    "    syntactic_patterns.append(patterns)\n",
    "\n",
    "# Voorbeeld van het tonen van de meest voorkomende syntactische patronen\n",
    "frequency_distribution = nltk.FreqDist(tuple(patterns) for patterns in syntactic_patterns)\n",
    "most_common_patterns = frequency_distribution.most_common(10)\n",
    "print(most_common_patterns)\n"
   ]
  },
  {
   "cell_type": "markdown",
   "id": "72321b33",
   "metadata": {},
   "source": [
    "### Alle woorden gegevens aanvullen"
   ]
  },
  {
   "cell_type": "code",
   "execution_count": 115,
   "id": "613d5750",
   "metadata": {},
   "outputs": [],
   "source": [
    "woorden_alles = pd.read_csv('112Vandaag_aflevering1_allewoorden.csv')\n",
    "woorden_alles = pd.DataFrame(woorden_alles)"
   ]
  },
  {
   "cell_type": "code",
   "execution_count": 116,
   "id": "29eb1acd",
   "metadata": {},
   "outputs": [
    {
     "name": "stdout",
     "output_type": "stream",
     "text": [
      "            Woord POS-tag Transcriptie-index\n",
      "0            Elke     VNW                  0\n",
      "1             dag       N                  0\n",
      "2           wordt      WW                  0\n",
      "3     alarmnummer       N                  0\n",
      "4           1-1-2      TW                  0\n",
      "...           ...     ...                ...\n",
      "3671       alleen      BW                400\n",
      "3672          bij      VZ                400\n",
      "3673        spoed       N                400\n",
      "3674          bel      WW                400\n",
      "3675        1-1-2      TW                400\n",
      "\n",
      "[3676 rows x 3 columns]\n"
     ]
    }
   ],
   "source": [
    "woorden_alles['Transcriptie-index'] = None\n",
    "\n",
    "huidige_transcriptie_index = 0\n",
    "\n",
    "for index, row in woorden_alles.iterrows():\n",
    "    elk_woord = row['Woord']\n",
    "    \n",
    "    transcriptie_index = None\n",
    "    for i in range(huidige_transcriptie_index, len(transcripties_truth)):\n",
    "        transcriptie = transcripties_truth[i]\n",
    "        if elk_woord in transcriptie:\n",
    "            transcriptie_index = i\n",
    "            break\n",
    "    \n",
    "    woorden_alles.at[index, 'Transcriptie-index'] = transcriptie_index\n",
    "    \n",
    "    if transcriptie_index is not None:\n",
    "        huidige_transcriptie_index = transcriptie_index\n",
    "\n",
    "print(woorden_alles)"
   ]
  },
  {
   "cell_type": "code",
   "execution_count": 117,
   "id": "7d5953ea",
   "metadata": {},
   "outputs": [],
   "source": [
    "gegevens = pd.read_excel('112aflevering1gegevens.xlsx')\n",
    "gegevens = pd.DataFrame(gegevens)\n",
    "\n",
    "woorden_alles['geslacht'] = None\n",
    "woorden_alles['leeftijd'] = None\n",
    "woorden_alles['dialectregio'] = None\n",
    "woorden_alles['studio'] = None"
   ]
  },
  {
   "cell_type": "code",
   "execution_count": 118,
   "id": "780d8033",
   "metadata": {},
   "outputs": [],
   "source": [
    "woorden_alles = woorden_alles.merge(transcripties['spreker_id'].reset_index(), left_on='Transcriptie-index', right_index=True)\n",
    "woorden_alles = woorden_alles.merge(gegevens, on='spreker_id', how='left')"
   ]
  },
  {
   "cell_type": "code",
   "execution_count": 119,
   "id": "64c0b755",
   "metadata": {},
   "outputs": [],
   "source": [
    "woorden_alles = woorden_alles.drop(['geslacht_x', 'leeftijd', 'dialectregio_x','studio_x','index'], axis=1)"
   ]
  },
  {
   "cell_type": "code",
   "execution_count": 120,
   "id": "39e3f744",
   "metadata": {},
   "outputs": [
    {
     "data": {
      "text/html": [
       "<div>\n",
       "<style scoped>\n",
       "    .dataframe tbody tr th:only-of-type {\n",
       "        vertical-align: middle;\n",
       "    }\n",
       "\n",
       "    .dataframe tbody tr th {\n",
       "        vertical-align: top;\n",
       "    }\n",
       "\n",
       "    .dataframe thead th {\n",
       "        text-align: right;\n",
       "    }\n",
       "</style>\n",
       "<table border=\"1\" class=\"dataframe\">\n",
       "  <thead>\n",
       "    <tr style=\"text-align: right;\">\n",
       "      <th></th>\n",
       "      <th>Woord</th>\n",
       "      <th>POS-tag</th>\n",
       "      <th>Transcriptie-index</th>\n",
       "      <th>spreker_id</th>\n",
       "      <th>geslacht_y</th>\n",
       "      <th>leeftijdscategorie</th>\n",
       "      <th>dialectregio_y</th>\n",
       "      <th>studio_y</th>\n",
       "    </tr>\n",
       "  </thead>\n",
       "  <tbody>\n",
       "    <tr>\n",
       "      <th>0</th>\n",
       "      <td>Elke</td>\n",
       "      <td>VNW</td>\n",
       "      <td>0</td>\n",
       "      <td>1.0</td>\n",
       "      <td>F</td>\n",
       "      <td>2.0</td>\n",
       "      <td>2.0</td>\n",
       "      <td>ja</td>\n",
       "    </tr>\n",
       "    <tr>\n",
       "      <th>1</th>\n",
       "      <td>dag</td>\n",
       "      <td>N</td>\n",
       "      <td>0</td>\n",
       "      <td>1.0</td>\n",
       "      <td>F</td>\n",
       "      <td>2.0</td>\n",
       "      <td>2.0</td>\n",
       "      <td>ja</td>\n",
       "    </tr>\n",
       "    <tr>\n",
       "      <th>2</th>\n",
       "      <td>wordt</td>\n",
       "      <td>WW</td>\n",
       "      <td>0</td>\n",
       "      <td>1.0</td>\n",
       "      <td>F</td>\n",
       "      <td>2.0</td>\n",
       "      <td>2.0</td>\n",
       "      <td>ja</td>\n",
       "    </tr>\n",
       "    <tr>\n",
       "      <th>3</th>\n",
       "      <td>alarmnummer</td>\n",
       "      <td>N</td>\n",
       "      <td>0</td>\n",
       "      <td>1.0</td>\n",
       "      <td>F</td>\n",
       "      <td>2.0</td>\n",
       "      <td>2.0</td>\n",
       "      <td>ja</td>\n",
       "    </tr>\n",
       "    <tr>\n",
       "      <th>4</th>\n",
       "      <td>1-1-2</td>\n",
       "      <td>TW</td>\n",
       "      <td>0</td>\n",
       "      <td>1.0</td>\n",
       "      <td>F</td>\n",
       "      <td>2.0</td>\n",
       "      <td>2.0</td>\n",
       "      <td>ja</td>\n",
       "    </tr>\n",
       "  </tbody>\n",
       "</table>\n",
       "</div>"
      ],
      "text/plain": [
       "         Woord POS-tag Transcriptie-index  spreker_id geslacht_y  \\\n",
       "0         Elke     VNW                  0         1.0          F   \n",
       "1          dag       N                  0         1.0          F   \n",
       "2        wordt      WW                  0         1.0          F   \n",
       "3  alarmnummer       N                  0         1.0          F   \n",
       "4        1-1-2      TW                  0         1.0          F   \n",
       "\n",
       "   leeftijdscategorie  dialectregio_y studio_y  \n",
       "0                 2.0             2.0       ja  \n",
       "1                 2.0             2.0       ja  \n",
       "2                 2.0             2.0       ja  \n",
       "3                 2.0             2.0       ja  \n",
       "4                 2.0             2.0       ja  "
      ]
     },
     "execution_count": 120,
     "metadata": {},
     "output_type": "execute_result"
    }
   ],
   "source": [
    "woorden_alles.head()"
   ]
  },
  {
   "cell_type": "markdown",
   "id": "563743b2",
   "metadata": {},
   "source": [
    "### Analyses"
   ]
  },
  {
   "cell_type": "markdown",
   "id": "672dcab7",
   "metadata": {},
   "source": [
    "#### Hoeveel verkeerd voorspelde woorden per regio per woordsoort"
   ]
  },
  {
   "cell_type": "code",
   "execution_count": 140,
   "id": "857195c4",
   "metadata": {},
   "outputs": [
    {
     "data": {
      "image/png": "[encoded data removed]",
      "text/plain": [
       "<Figure size 640x480 with 1 Axes>"
      ]
     },
     "metadata": {},
     "output_type": "display_data"
    }
   ],
   "source": [
    "fig, ax = plt.subplots()\n",
    "\n",
    "grouped_alles_sum.plot(kind='bar', ax=ax, label='Alle woorden', color='blue')\n",
    "\n",
    "grouped_sum.plot(kind='bar', ax=ax, label='Verkeerd voorspeld', color='orange')\n",
    "\n",
    "plt.xlabel('Dialectregio')\n",
    "plt.ylabel('Aantal woorden')\n",
    "plt.title('Aantal woorden per regio')\n",
    "plt.xticks(range(len(grouped_sum.index)), ['Zuid-Holland', 'Noord-Holland', 'Noord-Brabant'])\n",
    "plt.legend()\n",
    "plt.show()\n",
    "\n"
   ]
  },
  {
   "cell_type": "code",
   "execution_count": 155,
   "id": "88bcc4f4",
   "metadata": {},
   "outputs": [
    {
     "data": {
      "image/png": "[encoded data removed]",
      "text/plain": [
       "<Figure size 1000x600 with 1 Axes>"
      ]
     },
     "metadata": {},
     "output_type": "display_data"
    }
   ],
   "source": [
    "grouped_alles = woorden_alles.groupby(['dialectregio_y', 'POS-tag']).size().reset_index(name='Count_alles')\n",
    "grouped_verkeerd = woorden.groupby(['dialectregio_y', 'POS-tag']).size().reset_index(name='Count_verkeerd')\n",
    "\n",
    "sorted_grouped_alles = grouped_alles.sort_values(by='Count_alles', ascending=False)\n",
    "sorted_grouped_verkeerd = grouped_verkeerd.sort_values(by='Count_verkeerd', ascending=False)\n",
    "\n",
    "pivot_table_alles = sorted_grouped_alles.pivot(index='POS-tag', columns='dialectregio_y', values='Count_alles')\n",
    "pivot_table_verkeerd = sorted_grouped_verkeerd.pivot(index='POS-tag', columns='dialectregio_y', values='Count_verkeerd')\n",
    "\n",
    "provincienamen = {\n",
    "    1.0: 'Zuid-Holland',\n",
    "    2.0: 'Noord-Holland',\n",
    "    3.0: 'Noord-Brabant'}\n",
    "\n",
    "fig, ax = plt.subplots(figsize=(10, 6))\n",
    "\n",
    "width = 0.25\n",
    "positions = np.arange(len(pivot_table_verkeerd))\n",
    "\n",
    "for i, dialectregio in enumerate(pivot_table_verkeerd.columns):\n",
    "    provincienaam = provincienamen[dialectregio]\n",
    "    ax.bar(positions + i * width, pivot_table_alles[dialectregio], width=width, label=f'{provincienaam} (alles)')\n",
    "    ax.bar(positions + i * width, pivot_table_verkeerd[dialectregio], width=width, label=f'{provincienaam} (verkeerd)')\n",
    "\n",
    "plt.xlabel('POS-tag')\n",
    "plt.ylabel('Aantal woorden')\n",
    "plt.title('Aantal verkeerd voorspelde woorden per POS-tag (per dialectregio)')\n",
    "plt.xticks(positions + width/2, pivot_table_verkeerd.index)\n",
    "plt.legend(loc = 'upper left')\n",
    "plt.show()\n"
   ]
  },
  {
   "cell_type": "markdown",
   "id": "5cbda6f1",
   "metadata": {},
   "source": [
    "#### WER bepalen"
   ]
  },
  {
   "cell_type": "code",
   "execution_count": 168,
   "id": "06538d52",
   "metadata": {},
   "outputs": [
    {
     "data": {
      "text/html": [
       "<div>\n",
       "<style scoped>\n",
       "    .dataframe tbody tr th:only-of-type {\n",
       "        vertical-align: middle;\n",
       "    }\n",
       "\n",
       "    .dataframe tbody tr th {\n",
       "        vertical-align: top;\n",
       "    }\n",
       "\n",
       "    .dataframe thead th {\n",
       "        text-align: right;\n",
       "    }\n",
       "</style>\n",
       "<table border=\"1\" class=\"dataframe\">\n",
       "  <thead>\n",
       "    <tr style=\"text-align: right;\">\n",
       "      <th></th>\n",
       "      <th>truth</th>\n",
       "      <th>whisper</th>\n",
       "      <th>spreker_id</th>\n",
       "      <th>geslacht</th>\n",
       "      <th>leeftijdscategorie</th>\n",
       "      <th>dialectregio</th>\n",
       "      <th>studio</th>\n",
       "    </tr>\n",
       "  </thead>\n",
       "  <tbody>\n",
       "    <tr>\n",
       "      <th>0</th>\n",
       "      <td>Elke dag wordt alarmnummer 1-1-2 duizenden ker...</td>\n",
       "      <td>Elke dag wordt de land nummer 1 en 2 duizenden...</td>\n",
       "      <td>1.0</td>\n",
       "      <td>F</td>\n",
       "      <td>2.0</td>\n",
       "      <td>2.0</td>\n",
       "      <td>ja</td>\n",
       "    </tr>\n",
       "    <tr>\n",
       "      <th>1</th>\n",
       "      <td>Hier zie je de belangrijkste meldingen van woe...</td>\n",
       "      <td>Hier zie je de belangrijkste meldingen van woe...</td>\n",
       "      <td>1.0</td>\n",
       "      <td>F</td>\n",
       "      <td>2.0</td>\n",
       "      <td>2.0</td>\n",
       "      <td>ja</td>\n",
       "    </tr>\n",
       "    <tr>\n",
       "      <th>2</th>\n",
       "      <td>Scooterbrand slaat over op woning in Noordwijk...</td>\n",
       "      <td>Scooter Brand slaat over op woning in Noordwij...</td>\n",
       "      <td>1.0</td>\n",
       "      <td>F</td>\n",
       "      <td>2.0</td>\n",
       "      <td>2.0</td>\n",
       "      <td>ja</td>\n",
       "    </tr>\n",
       "    <tr>\n",
       "      <th>3</th>\n",
       "      <td>Inbreker op heet er daad betrapt in het Braban...</td>\n",
       "      <td>Inbreker op, heet er daad betrapt, in het Brab...</td>\n",
       "      <td>1.0</td>\n",
       "      <td>F</td>\n",
       "      <td>2.0</td>\n",
       "      <td>2.0</td>\n",
       "      <td>ja</td>\n",
       "    </tr>\n",
       "    <tr>\n",
       "      <th>4</th>\n",
       "      <td>Zijn compagnon is nog voortvluchtig.</td>\n",
       "      <td>Zijn compagnon is nog voortvluchtig.</td>\n",
       "      <td>1.0</td>\n",
       "      <td>F</td>\n",
       "      <td>2.0</td>\n",
       "      <td>2.0</td>\n",
       "      <td>ja</td>\n",
       "    </tr>\n",
       "  </tbody>\n",
       "</table>\n",
       "</div>"
      ],
      "text/plain": [
       "                                               truth  \\\n",
       "0  Elke dag wordt alarmnummer 1-1-2 duizenden ker...   \n",
       "1  Hier zie je de belangrijkste meldingen van woe...   \n",
       "2  Scooterbrand slaat over op woning in Noordwijk...   \n",
       "3  Inbreker op heet er daad betrapt in het Braban...   \n",
       "4               Zijn compagnon is nog voortvluchtig.   \n",
       "\n",
       "                                             whisper  spreker_id geslacht  \\\n",
       "0  Elke dag wordt de land nummer 1 en 2 duizenden...         1.0        F   \n",
       "1  Hier zie je de belangrijkste meldingen van woe...         1.0        F   \n",
       "2  Scooter Brand slaat over op woning in Noordwij...         1.0        F   \n",
       "3  Inbreker op, heet er daad betrapt, in het Brab...         1.0        F   \n",
       "4               Zijn compagnon is nog voortvluchtig.         1.0        F   \n",
       "\n",
       "   leeftijdscategorie  dialectregio studio  \n",
       "0                 2.0           2.0     ja  \n",
       "1                 2.0           2.0     ja  \n",
       "2                 2.0           2.0     ja  \n",
       "3                 2.0           2.0     ja  \n",
       "4                 2.0           2.0     ja  "
      ]
     },
     "execution_count": 168,
     "metadata": {},
     "output_type": "execute_result"
    }
   ],
   "source": [
    "merged_df = transcripties.merge(gegevens, how='left').dropna()\n",
    "merged_df.head()"
   ]
  },
  {
   "cell_type": "code",
   "execution_count": 173,
   "id": "29d54491",
   "metadata": {},
   "outputs": [
    {
     "name": "stdout",
     "output_type": "stream",
     "text": [
      "WER voor dialectregio Zuid-Holland: 0.10225563909774436\n",
      "WER voor dialectregio Noord-Holland: 0.06367292225201072\n",
      "WER voor dialectregio Noord-Brabant: 0.09109518935516889\n"
     ]
    }
   ],
   "source": [
    "import jiwer\n",
    "from jiwer import wer\n",
    "\n",
    "grouped_transcripties = merged_df.groupby('dialectregio')\n",
    "\n",
    "provincienamen = {\n",
    "    1.0: 'Zuid-Holland',\n",
    "    2.0: 'Noord-Holland',\n",
    "    3.0: 'Noord-Brabant'}\n",
    "\n",
    "for dialectregio, transcriptie_group in grouped_transcripties:\n",
    "    transcripties_truth = transcriptie_group['truth'].tolist()\n",
    "    transcripties_whisper = transcriptie_group['whisper'].tolist()\n",
    "\n",
    "    wer = jiwer.wer(transcripties_truth, transcripties_whisper)\n",
    "\n",
    "    print(f\"WER voor dialectregio {provincienamen[dialectregio]}: {wer}\")\n"
   ]
  },
  {
   "cell_type": "code",
   "execution_count": 177,
   "id": "ca9bb9e9",
   "metadata": {},
   "outputs": [
    {
     "name": "stdout",
     "output_type": "stream",
     "text": [
      "WER-scores voor dialectregio Zuid-Holland en geslacht F:\n",
      "0.09824561403508772\n",
      "\n",
      "WER-scores voor dialectregio Zuid-Holland en geslacht M:\n",
      "0.12631578947368421\n",
      "\n",
      "WER-scores voor dialectregio Noord-Holland en geslacht F:\n",
      "0.060215053763440864\n",
      "\n",
      "WER-scores voor dialectregio Noord-Holland en geslacht M:\n",
      "0.1134020618556701\n",
      "\n",
      "WER-scores voor dialectregio Noord-Brabant en geslacht M:\n",
      "0.09109518935516889\n",
      "\n"
     ]
    }
   ],
   "source": [
    "import jiwer\n",
    "import pandas as pd\n",
    "\n",
    "grouped_transcripties = merged_df.groupby(['dialectregio', 'geslacht'])\n",
    "\n",
    "wer_scores = []\n",
    "dialectregio_labels = []\n",
    "geslacht_labels = []\n",
    "\n",
    "for (dialectregio, geslacht), transcriptie_group in grouped_transcripties:\n",
    "    transcripties_truth = transcriptie_group['truth'].tolist()\n",
    "    transcripties_whisper = transcriptie_group['whisper'].tolist()\n",
    "\n",
    "    wer = jiwer.wer(transcripties_truth, transcripties_whisper)\n",
    "\n",
    "    wer_scores.append(wer)\n",
    "    dialectregio_labels.append(dialectregio)\n",
    "    geslacht_labels.append(geslacht)\n",
    "\n",
    "data = pd.DataFrame({'WER': wer_scores, 'Dialectregio': dialectregio_labels, 'Geslacht': geslacht_labels})\n",
    "\n",
    "for (dialectregio, geslacht), group in data.groupby(['Dialectregio', 'Geslacht']):\n",
    "    wer_scores = group['WER'].tolist()\n",
    "    print(f\"WER voor dialectregio {provincienamen[dialectregio]} en geslacht {geslacht}:\")\n",
    "    for wer in wer_scores:\n",
    "        print(wer)\n",
    "    print()\n"
   ]
  },
  {
   "cell_type": "code",
   "execution_count": 215,
   "id": "136d751a",
   "metadata": {},
   "outputs": [
    {
     "data": {
      "image/png": "[encoded data removed]",
      "text/plain": [
       "<Figure size 640x480 with 1 Axes>"
      ]
     },
     "metadata": {},
     "output_type": "display_data"
    }
   ],
   "source": [
    "import jiwer\n",
    "import seaborn as sns\n",
    "import pandas as pd\n",
    "import matplotlib.pyplot as plt\n",
    "\n",
    "wer_scores = []\n",
    "dialectregio = []\n",
    "geslacht = []\n",
    "\n",
    "for index, row in merged_df.iterrows():\n",
    "    transcriptie_truth = row['truth']\n",
    "    transcriptie_whisper = row['whisper']\n",
    "    current_dialectregio = row['dialectregio']\n",
    "    current_geslacht = row['geslacht']\n",
    "\n",
    "    wer = jiwer.wer(transcriptie_truth, transcriptie_whisper)\n",
    "\n",
    "    wer_scores.append(wer)\n",
    "    dialectregio.append(current_dialectregio)\n",
    "    geslacht.append(current_geslacht)\n",
    "\n",
    "data = pd.DataFrame({'WER': wer_scores, 'Dialectregio': dialectregio, 'Geslacht': geslacht})\n",
    "\n",
    "sns.boxplot(data=data, x='Dialectregio', y='WER', hue='Geslacht')\n",
    "\n",
    "plt.xlabel('Dialectregio')\n",
    "plt.ylabel('WER-score')\n",
    "plt.title('WER-scores per regio en geslacht')\n",
    "plt.xticks([0, 1, 2], ['Zuid-Holland', 'Noord-Holland', 'Noord-Brabant'])\n",
    "plt.ylim(-0.05, 1.05)\n",
    "plt.show()\n"
   ]
  },
  {
   "cell_type": "markdown",
   "id": "74f62434",
   "metadata": {},
   "source": [
    "#### Aantal transcripties: studio"
   ]
  },
  {
   "cell_type": "code",
   "execution_count": 195,
   "id": "4c13962f",
   "metadata": {},
   "outputs": [
    {
     "data": {
      "image/png": "[encoded data removed]",
      "text/plain": [
       "<Figure size 640x480 with 1 Axes>"
      ]
     },
     "metadata": {},
     "output_type": "display_data"
    }
   ],
   "source": [
    "import jiwer\n",
    "import seaborn as sns\n",
    "import pandas as pd\n",
    "import matplotlib.pyplot as plt\n",
    "\n",
    "wer_scores = []\n",
    "studio = []\n",
    "\n",
    "for index, row in merged_df.iterrows():\n",
    "    transcriptie_truth = row['truth']\n",
    "    transcriptie_whisper = row['whisper']\n",
    "    current_studio = row['studio']\n",
    "\n",
    "    wer = jiwer.wer(transcriptie_truth, transcriptie_whisper)\n",
    "\n",
    "    wer_scores.append(wer)\n",
    "    studio.append(current_studio)\n",
    "\n",
    "data = pd.DataFrame({'WER': wer_scores, 'Studio': studio})\n",
    "\n",
    "sns.boxplot(data=data, x='Studio', y='WER')\n",
    "\n",
    "plt.xlabel('Studio')\n",
    "plt.ylabel('WER-score')\n",
    "plt.title('WER-scores per Studio')\n",
    "plt.ylim(-0.05, 1.05)\n",
    "plt.show()\n"
   ]
  },
  {
   "cell_type": "code",
   "execution_count": 212,
   "id": "17500a81",
   "metadata": {},
   "outputs": [
    {
     "data": {
      "image/png": "[encoded data removed]",
      "text/plain": [
       "<Figure size 640x480 with 1 Axes>"
      ]
     },
     "metadata": {},
     "output_type": "display_data"
    }
   ],
   "source": [
    "import jiwer\n",
    "import seaborn as sns\n",
    "import pandas as pd\n",
    "import matplotlib.pyplot as plt\n",
    "\n",
    "wer_scores = []\n",
    "studio = []\n",
    "\n",
    "for index, row in merged_df.iterrows():\n",
    "    transcriptie_truth = row['truth']\n",
    "    transcriptie_whisper = row['whisper']\n",
    "    current_studio = row['studio']\n",
    "\n",
    "    wer = jiwer.wer(transcriptie_truth, transcriptie_whisper)\n",
    "\n",
    "    wer_scores.append(wer)\n",
    "    studio.append(current_studio)\n",
    "\n",
    "data = pd.DataFrame({'WER': wer_scores, 'Studio': studio})\n",
    "sns.histplot(data=data, x='WER', hue='Studio', multiple='stack')\n",
    "\n",
    "plt.xlabel('WER-score')\n",
    "plt.ylabel('Frequentie')\n",
    "plt.title('Histogram van WER-scores per transcriptie (gesplitst op studio)')\n",
    "plt.xlim(-0.05, 1.05)\n",
    "plt.show()"
   ]
  },
  {
   "cell_type": "code",
   "execution_count": 187,
   "id": "b57a57b1",
   "metadata": {},
   "outputs": [
    {
     "data": {
      "image/png": "[encoded data removed]",
      "text/plain": [
       "<Figure size 640x480 with 1 Axes>"
      ]
     },
     "metadata": {},
     "output_type": "display_data"
    }
   ],
   "source": [
    "import editdistance\n",
    "import pandas as pd\n",
    "\n",
    "cer_scores = []\n",
    "studio = []\n",
    "\n",
    "for index, row in merged_df.iterrows():\n",
    "    transcriptie_truth = row['truth']\n",
    "    transcriptie_whisper = row['whisper']\n",
    "    current_studio = row['studio']\n",
    "\n",
    "    cer = editdistance.eval(transcriptie_truth, transcriptie_whisper) / len(transcriptie_truth)\n",
    "\n",
    "    cer_scores.append(cer)\n",
    "    studio.append(current_studio)\n",
    "\n",
    "data = pd.DataFrame({'CER': cer_scores, 'Studio': studio})\n",
    "\n",
    "sns.boxplot(data=data, x='Studio', y='CER')\n",
    "\n",
    "plt.xlabel('Studio')\n",
    "plt.ylabel('CER-score')\n",
    "plt.title('CER-scores per Studio')\n",
    "plt.show()\n"
   ]
  },
  {
   "cell_type": "code",
   "execution_count": 213,
   "id": "a794700f",
   "metadata": {},
   "outputs": [
    {
     "data": {
      "image/png": "[encoded data removed]",
      "text/plain": [
       "<Figure size 640x480 with 1 Axes>"
      ]
     },
     "metadata": {},
     "output_type": "display_data"
    }
   ],
   "source": [
    "import jiwer\n",
    "import seaborn as sns\n",
    "import pandas as pd\n",
    "import matplotlib.pyplot as plt\n",
    "\n",
    "cer_scores = []\n",
    "studio = []\n",
    "\n",
    "for index, row in merged_df.iterrows():\n",
    "    transcriptie_truth = row['truth']\n",
    "    transcriptie_whisper = row['whisper']\n",
    "    current_studio = row['studio']\n",
    "\n",
    "    cer = jiwer.cer(transcriptie_truth, transcriptie_whisper)\n",
    "\n",
    "    cer_scores.append(cer)\n",
    "    studio.append(current_studio)\n",
    "\n",
    "data = pd.DataFrame({'CER': cer_scores, 'Studio': studio})\n",
    "\n",
    "sns.histplot(data=data, x='CER', hue='Studio', multiple='stack')\n",
    "\n",
    "plt.xlabel('CER-score')\n",
    "plt.ylabel('Frequentie')\n",
    "plt.title('Histogram van CER-scores per transcriptie (gesplitst op studio)')\n",
    "plt.show()"
   ]
  }
 ],
 "metadata": {
  "kernelspec": {
   "display_name": "Python 3 (ipykernel)",
   "language": "python",
   "name": "python3"
  },
  "language_info": {
   "codemirror_mode": {
    "name": "ipython",
    "version": 3
   },
   "file_extension": ".py",
   "mimetype": "text/x-python",
   "name": "python",
   "nbconvert_exporter": "python",
   "pygments_lexer": "ipython3",
   "version": "3.9.12"
  }
 },
 "nbformat": 4,
 "nbformat_minor": 5
}
